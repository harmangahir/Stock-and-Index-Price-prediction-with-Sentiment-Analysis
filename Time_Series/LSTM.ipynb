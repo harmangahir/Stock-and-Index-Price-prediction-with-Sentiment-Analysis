{
  "nbformat": 4,
  "nbformat_minor": 0,
  "metadata": {
    "colab": {
      "name": "LSTM.ipynb",
      "provenance": [],
      "collapsed_sections": []
    },
    "kernelspec": {
      "name": "python3",
      "display_name": "Python 3"
    }
  },
  "cells": [
    {
      "cell_type": "markdown",
      "metadata": {
        "id": "u7BxW7BAumQD"
      },
      "source": [
        "# Deep Learning: Long Short-Term Memory (LSTM)\n",
        "\n",
        "\n",
        "## 1. Introduction\n",
        "\n",
        "Five years of AstraZeneca historical stock data will be used to predict Adjusted Close prices by building a multi-layer LSTM Recurrent Neural Network model. The ability to store information over a period of time is useful when dealing with time series data. \n",
        "\n"
      ]
    },
    {
      "cell_type": "markdown",
      "metadata": {
        "id": "xn8Jn7bYyaw0"
      },
      "source": [
        "## 2. Install/import libraries"
      ]
    },
    {
      "cell_type": "code",
      "metadata": {
        "id": "vHuikd56lgGy"
      },
      "source": [
        "!pip install yfinance as yfinance"
      ],
      "execution_count": null,
      "outputs": []
    },
    {
      "cell_type": "code",
      "metadata": {
        "id": "_qB4iVXillcc"
      },
      "source": [
        "import yfinance as yf\n",
        "\n",
        "import pandas as pd\n",
        "import numpy as np\n",
        "import matplotlib.pyplot as plt\n",
        "import matplotlib.dates as dates\n",
        "import seaborn as sns\n",
        "import math\n",
        "import datetime\n",
        "import keras\n",
        "import warnings\n",
        "warnings.filterwarnings('ignore')\n",
        "\n",
        "from datetime import date, timedelta\n",
        "from keras.models import Sequential\n",
        "from keras.layers import Dense\n",
        "from keras.layers import LSTM\n",
        "from keras.layers import Dropout\n",
        "from keras.layers import *\n",
        "from keras.callbacks import EarlyStopping\n",
        "from sklearn.preprocessing import MinMaxScaler\n",
        "from sklearn.metrics import mean_squared_error\n",
        "from sklearn.metrics import mean_absolute_error\n",
        "\n",
        "%matplotlib inline"
      ],
      "execution_count": null,
      "outputs": []
    },
    {
      "cell_type": "markdown",
      "metadata": {
        "id": "Da8bAEfYyn8K"
      },
      "source": [
        "## 3. Import data\n",
        "\n",
        "Read in AstraZeneca stock data for 2014-2019 downloaded from Yahoo! Finance using yfinance API into a pandas DataFrame."
      ]
    },
    {
      "cell_type": "code",
      "metadata": {
        "colab": {
          "base_uri": "https://localhost:8080/",
          "height": 467
        },
        "id": "inrpv-spl23s",
        "outputId": "a82b7502-0a5f-4bf6-bd9b-45e00ca9e69b"
      },
      "source": [
        "azn_df = yf.download(\"AZN.L\", start=\"2014-07-10\", end=\"2019-07-11\")\n",
        "azn_df"
      ],
      "execution_count": null,
      "outputs": [
        {
          "output_type": "stream",
          "text": [
            "\r[*********************100%***********************]  1 of 1 completed\n"
          ],
          "name": "stdout"
        },
        {
          "output_type": "execute_result",
          "data": {
            "text/html": [
              "<div>\n",
              "<style scoped>\n",
              "    .dataframe tbody tr th:only-of-type {\n",
              "        vertical-align: middle;\n",
              "    }\n",
              "\n",
              "    .dataframe tbody tr th {\n",
              "        vertical-align: top;\n",
              "    }\n",
              "\n",
              "    .dataframe thead th {\n",
              "        text-align: right;\n",
              "    }\n",
              "</style>\n",
              "<table border=\"1\" class=\"dataframe\">\n",
              "  <thead>\n",
              "    <tr style=\"text-align: right;\">\n",
              "      <th></th>\n",
              "      <th>Open</th>\n",
              "      <th>High</th>\n",
              "      <th>Low</th>\n",
              "      <th>Close</th>\n",
              "      <th>Adj Close</th>\n",
              "      <th>Volume</th>\n",
              "    </tr>\n",
              "    <tr>\n",
              "      <th>Date</th>\n",
              "      <th></th>\n",
              "      <th></th>\n",
              "      <th></th>\n",
              "      <th></th>\n",
              "      <th></th>\n",
              "      <th></th>\n",
              "    </tr>\n",
              "  </thead>\n",
              "  <tbody>\n",
              "    <tr>\n",
              "      <th>2014-07-10</th>\n",
              "      <td>4358.5</td>\n",
              "      <td>4371.000000</td>\n",
              "      <td>4326.5</td>\n",
              "      <td>4345.0</td>\n",
              "      <td>3323.517090</td>\n",
              "      <td>1692025</td>\n",
              "    </tr>\n",
              "    <tr>\n",
              "      <th>2014-07-11</th>\n",
              "      <td>4346.0</td>\n",
              "      <td>4375.082031</td>\n",
              "      <td>4330.0</td>\n",
              "      <td>4353.5</td>\n",
              "      <td>3330.018555</td>\n",
              "      <td>965145</td>\n",
              "    </tr>\n",
              "    <tr>\n",
              "      <th>2014-07-14</th>\n",
              "      <td>4375.0</td>\n",
              "      <td>4393.500000</td>\n",
              "      <td>4358.0</td>\n",
              "      <td>4369.5</td>\n",
              "      <td>3342.256836</td>\n",
              "      <td>1492796</td>\n",
              "    </tr>\n",
              "    <tr>\n",
              "      <th>2014-07-15</th>\n",
              "      <td>4378.0</td>\n",
              "      <td>4423.000000</td>\n",
              "      <td>4375.0</td>\n",
              "      <td>4384.5</td>\n",
              "      <td>3353.730469</td>\n",
              "      <td>1458661</td>\n",
              "    </tr>\n",
              "    <tr>\n",
              "      <th>2014-07-16</th>\n",
              "      <td>4380.0</td>\n",
              "      <td>4389.750000</td>\n",
              "      <td>4335.5</td>\n",
              "      <td>4371.0</td>\n",
              "      <td>3343.404297</td>\n",
              "      <td>2673194</td>\n",
              "    </tr>\n",
              "    <tr>\n",
              "      <th>...</th>\n",
              "      <td>...</td>\n",
              "      <td>...</td>\n",
              "      <td>...</td>\n",
              "      <td>...</td>\n",
              "      <td>...</td>\n",
              "      <td>...</td>\n",
              "    </tr>\n",
              "    <tr>\n",
              "      <th>2019-07-04</th>\n",
              "      <td>6606.0</td>\n",
              "      <td>6611.000000</td>\n",
              "      <td>6548.0</td>\n",
              "      <td>6578.0</td>\n",
              "      <td>6209.681152</td>\n",
              "      <td>925371</td>\n",
              "    </tr>\n",
              "    <tr>\n",
              "      <th>2019-07-05</th>\n",
              "      <td>6577.0</td>\n",
              "      <td>6609.000000</td>\n",
              "      <td>6509.0</td>\n",
              "      <td>6527.0</td>\n",
              "      <td>6161.537109</td>\n",
              "      <td>1156314</td>\n",
              "    </tr>\n",
              "    <tr>\n",
              "      <th>2019-07-08</th>\n",
              "      <td>6460.0</td>\n",
              "      <td>6468.000000</td>\n",
              "      <td>6417.0</td>\n",
              "      <td>6437.0</td>\n",
              "      <td>6076.576660</td>\n",
              "      <td>1504293</td>\n",
              "    </tr>\n",
              "    <tr>\n",
              "      <th>2019-07-09</th>\n",
              "      <td>6434.0</td>\n",
              "      <td>6484.000000</td>\n",
              "      <td>6427.0</td>\n",
              "      <td>6476.0</td>\n",
              "      <td>6113.392090</td>\n",
              "      <td>1417199</td>\n",
              "    </tr>\n",
              "    <tr>\n",
              "      <th>2019-07-10</th>\n",
              "      <td>6456.0</td>\n",
              "      <td>6549.000000</td>\n",
              "      <td>6412.0</td>\n",
              "      <td>6489.0</td>\n",
              "      <td>6125.665039</td>\n",
              "      <td>1518014</td>\n",
              "    </tr>\n",
              "  </tbody>\n",
              "</table>\n",
              "<p>1261 rows × 6 columns</p>\n",
              "</div>"
            ],
            "text/plain": [
              "              Open         High     Low   Close    Adj Close   Volume\n",
              "Date                                                                 \n",
              "2014-07-10  4358.5  4371.000000  4326.5  4345.0  3323.517090  1692025\n",
              "2014-07-11  4346.0  4375.082031  4330.0  4353.5  3330.018555   965145\n",
              "2014-07-14  4375.0  4393.500000  4358.0  4369.5  3342.256836  1492796\n",
              "2014-07-15  4378.0  4423.000000  4375.0  4384.5  3353.730469  1458661\n",
              "2014-07-16  4380.0  4389.750000  4335.5  4371.0  3343.404297  2673194\n",
              "...            ...          ...     ...     ...          ...      ...\n",
              "2019-07-04  6606.0  6611.000000  6548.0  6578.0  6209.681152   925371\n",
              "2019-07-05  6577.0  6609.000000  6509.0  6527.0  6161.537109  1156314\n",
              "2019-07-08  6460.0  6468.000000  6417.0  6437.0  6076.576660  1504293\n",
              "2019-07-09  6434.0  6484.000000  6427.0  6476.0  6113.392090  1417199\n",
              "2019-07-10  6456.0  6549.000000  6412.0  6489.0  6125.665039  1518014\n",
              "\n",
              "[1261 rows x 6 columns]"
            ]
          },
          "metadata": {
            "tags": []
          },
          "execution_count": 4
        }
      ]
    },
    {
      "cell_type": "code",
      "metadata": {
        "colab": {
          "base_uri": "https://localhost:8080/",
          "height": 495
        },
        "id": "DLWTn0BOzOdb",
        "outputId": "3fefe1fd-c4db-49cb-d1cd-61f208f2a14c"
      },
      "source": [
        "# Plot Adjusted Close price\n",
        "\n",
        "azn_df['Adj Close'].plot(grid = True)\n",
        "sns.set(rc={'figure.figsize':(16, 8)})\n",
        "plt.title('AZN.L Adjusted Close Price', color = 'black', fontsize = 20)\n",
        "plt.xlabel('Year', color = 'black', fontsize = 15)\n",
        "plt.ylabel('Stock price', color = 'black', fontsize = 15);"
      ],
      "execution_count": null,
      "outputs": [
        {
          "output_type": "display_data",
          "data": {
            "image/png": "[encoded data removed]",
            "text/plain": [
              "<Figure size 1152x576 with 1 Axes>"
            ]
          },
          "metadata": {
            "tags": []
          }
        }
      ]
    },
    {
      "cell_type": "code",
      "metadata": {
        "id": "GTjKt62v1NkL"
      },
      "source": [
        "# Create DataFrame for Adjusted Close price\n",
        "\n",
        "azn_adj = azn_df[['Adj Close']]"
      ],
      "execution_count": null,
      "outputs": []
    },
    {
      "cell_type": "code",
      "metadata": {
        "colab": {
          "base_uri": "https://localhost:8080/",
          "height": 450
        },
        "id": "wOQIDp-a1U-y",
        "outputId": "0dceac41-6148-4b37-d71c-a19a9c625f41"
      },
      "source": [
        "azn_adj"
      ],
      "execution_count": null,
      "outputs": [
        {
          "output_type": "execute_result",
          "data": {
            "text/html": [
              "<div>\n",
              "<style scoped>\n",
              "    .dataframe tbody tr th:only-of-type {\n",
              "        vertical-align: middle;\n",
              "    }\n",
              "\n",
              "    .dataframe tbody tr th {\n",
              "        vertical-align: top;\n",
              "    }\n",
              "\n",
              "    .dataframe thead th {\n",
              "        text-align: right;\n",
              "    }\n",
              "</style>\n",
              "<table border=\"1\" class=\"dataframe\">\n",
              "  <thead>\n",
              "    <tr style=\"text-align: right;\">\n",
              "      <th></th>\n",
              "      <th>Adj Close</th>\n",
              "    </tr>\n",
              "    <tr>\n",
              "      <th>Date</th>\n",
              "      <th></th>\n",
              "    </tr>\n",
              "  </thead>\n",
              "  <tbody>\n",
              "    <tr>\n",
              "      <th>2014-07-10</th>\n",
              "      <td>3323.517090</td>\n",
              "    </tr>\n",
              "    <tr>\n",
              "      <th>2014-07-11</th>\n",
              "      <td>3330.018555</td>\n",
              "    </tr>\n",
              "    <tr>\n",
              "      <th>2014-07-14</th>\n",
              "      <td>3342.256836</td>\n",
              "    </tr>\n",
              "    <tr>\n",
              "      <th>2014-07-15</th>\n",
              "      <td>3353.730469</td>\n",
              "    </tr>\n",
              "    <tr>\n",
              "      <th>2014-07-16</th>\n",
              "      <td>3343.404297</td>\n",
              "    </tr>\n",
              "    <tr>\n",
              "      <th>...</th>\n",
              "      <td>...</td>\n",
              "    </tr>\n",
              "    <tr>\n",
              "      <th>2019-07-04</th>\n",
              "      <td>6209.681152</td>\n",
              "    </tr>\n",
              "    <tr>\n",
              "      <th>2019-07-05</th>\n",
              "      <td>6161.537109</td>\n",
              "    </tr>\n",
              "    <tr>\n",
              "      <th>2019-07-08</th>\n",
              "      <td>6076.576660</td>\n",
              "    </tr>\n",
              "    <tr>\n",
              "      <th>2019-07-09</th>\n",
              "      <td>6113.392090</td>\n",
              "    </tr>\n",
              "    <tr>\n",
              "      <th>2019-07-10</th>\n",
              "      <td>6125.665039</td>\n",
              "    </tr>\n",
              "  </tbody>\n",
              "</table>\n",
              "<p>1261 rows × 1 columns</p>\n",
              "</div>"
            ],
            "text/plain": [
              "              Adj Close\n",
              "Date                   \n",
              "2014-07-10  3323.517090\n",
              "2014-07-11  3330.018555\n",
              "2014-07-14  3342.256836\n",
              "2014-07-15  3353.730469\n",
              "2014-07-16  3343.404297\n",
              "...                 ...\n",
              "2019-07-04  6209.681152\n",
              "2019-07-05  6161.537109\n",
              "2019-07-08  6076.576660\n",
              "2019-07-09  6113.392090\n",
              "2019-07-10  6125.665039\n",
              "\n",
              "[1261 rows x 1 columns]"
            ]
          },
          "metadata": {
            "tags": []
          },
          "execution_count": 6
        }
      ]
    },
    {
      "cell_type": "markdown",
      "metadata": {
        "id": "N1zio5Ok1qXE"
      },
      "source": [
        "## 4. Create training data set"
      ]
    },
    {
      "cell_type": "code",
      "metadata": {
        "colab": {
          "base_uri": "https://localhost:8080/"
        },
        "id": "xI8eAVojSd-5",
        "outputId": "8a0ce0dc-a560-4a49-b0a2-4f118945db52"
      },
      "source": [
        "# Convert DataFrame to numpy array\n",
        "azn_adj_arr = azn_adj.values\n",
        "\n",
        "# Find number of rows to train model on (80% of data set) \n",
        "training_data_len = int(0.8*len(azn_adj))\n",
        "\n",
        "training_data_len"
      ],
      "execution_count": null,
      "outputs": [
        {
          "output_type": "execute_result",
          "data": {
            "text/plain": [
              "1008"
            ]
          },
          "metadata": {
            "tags": []
          },
          "execution_count": 7
        }
      ]
    },
    {
      "cell_type": "code",
      "metadata": {
        "id": "zCgW-cwPZBjD"
      },
      "source": [
        "# Create train data set\n",
        "\n",
        "train = azn_adj_arr[0:training_data_len, :]"
      ],
      "execution_count": null,
      "outputs": []
    },
    {
      "cell_type": "markdown",
      "metadata": {
        "id": "20V7wwx73R_r"
      },
      "source": [
        "### Feature scaling\n",
        "\n",
        "We will normalise the training data before model fitting by converting the values of numeric columns in the data set to a common scale. Scikit-Learn’s MinMaxScaler() function scales the data to values between 0 and 1 which helps boost performance."
      ]
    },
    {
      "cell_type": "code",
      "metadata": {
        "colab": {
          "base_uri": "https://localhost:8080/"
        },
        "id": "InwRKZSQKH-t",
        "outputId": "d8ec3532-5356-4960-ec28-a0b4630c36cc"
      },
      "source": [
        "# Normalise the data\n",
        "scaler = MinMaxScaler(feature_range=(0,1))\n",
        "train_scaled = scaler.fit_transform(train)\n",
        "\n",
        "train_scaled"
      ],
      "execution_count": null,
      "outputs": [
        {
          "output_type": "execute_result",
          "data": {
            "text/plain": [
              "array([[0.09740289],\n",
              "       [0.10091837],\n",
              "       [0.10753585],\n",
              "       ...,\n",
              "       [0.8634877 ],\n",
              "       [0.89010021],\n",
              "       [0.90291354]])"
            ]
          },
          "metadata": {
            "tags": []
          },
          "execution_count": 9
        }
      ]
    },
    {
      "cell_type": "code",
      "metadata": {
        "colab": {
          "base_uri": "https://localhost:8080/"
        },
        "id": "jq4xU6ArpbWt",
        "outputId": "e4d06f34-baa5-48c1-d67a-cf1adda36a97"
      },
      "source": [
        "train_scaled.shape"
      ],
      "execution_count": null,
      "outputs": [
        {
          "output_type": "execute_result",
          "data": {
            "text/plain": [
              "(1008, 1)"
            ]
          },
          "metadata": {
            "tags": []
          },
          "execution_count": 10
        }
      ]
    },
    {
      "cell_type": "markdown",
      "metadata": {
        "id": "7C1bvW-fiAzN"
      },
      "source": [
        "## Split training data into X_train, y_train"
      ]
    },
    {
      "cell_type": "code",
      "metadata": {
        "id": "bGBH9hP_n9Ea",
        "colab": {
          "base_uri": "https://localhost:8080/"
        },
        "outputId": "a0ef1d5d-5423-4d4a-a1d2-28a7aa97f48d"
      },
      "source": [
        "# Creating a data structure with 60 time-steps and 1 output\n",
        "\n",
        "# Split data into X_train and y_train data sets\n",
        "X_train = []\n",
        "y_train = []\n",
        "# Creating a data structure with 60 time-steps and 1 output\n",
        "for i in range(60, len(train_scaled)):\n",
        "    X_train.append(train_scaled[i-60:i, 0])\n",
        "    y_train.append(train_scaled[i:i+1, 0])  \n",
        "    if i <= 61:     # 60 days for first pass, 61 for second\n",
        "      print(X_train)\n",
        "      print(y_train)\n",
        "      print()"
      ],
      "execution_count": null,
      "outputs": [
        {
          "output_type": "stream",
          "text": [
            "[array([0.09740289, 0.10091837, 0.10753585, 0.11373988, 0.10815631,\n",
            "       0.08478811, 0.09533453, 0.1160147 , 0.13090444, 0.12883661,\n",
            "       0.13028372, 0.11684215, 0.10402011, 0.08809712, 0.102573  ,\n",
            "       0.09719616, 0.09471434, 0.10464057, 0.09760949, 0.03329468,\n",
            "       0.03288122, 0.        , 0.01282164, 0.00806526, 0.01879121,\n",
            "       0.01648695, 0.0150203 , 0.06069003, 0.0761927 , 0.09567552,\n",
            "       0.14867758, 0.15140098, 0.17214122, 0.16438949, 0.17716888,\n",
            "       0.2138304 , 0.21822969, 0.20293652, 0.21801992, 0.20943097,\n",
            "       0.20796445, 0.21592529, 0.21822969, 0.22639976, 0.20209864,\n",
            "       0.19497608, 0.20461241, 0.19057666, 0.18282532, 0.201051  ,\n",
            "       0.21864869, 0.21822969, 0.14972496, 0.14218339, 0.13296554,\n",
            "       0.14742069, 0.163133  , 0.16124747, 0.12730936, 0.09337112])]\n",
            "[array([0.12793774])]\n",
            "\n",
            "[array([0.09740289, 0.10091837, 0.10753585, 0.11373988, 0.10815631,\n",
            "       0.08478811, 0.09533453, 0.1160147 , 0.13090444, 0.12883661,\n",
            "       0.13028372, 0.11684215, 0.10402011, 0.08809712, 0.102573  ,\n",
            "       0.09719616, 0.09471434, 0.10464057, 0.09760949, 0.03329468,\n",
            "       0.03288122, 0.        , 0.01282164, 0.00806526, 0.01879121,\n",
            "       0.01648695, 0.0150203 , 0.06069003, 0.0761927 , 0.09567552,\n",
            "       0.14867758, 0.15140098, 0.17214122, 0.16438949, 0.17716888,\n",
            "       0.2138304 , 0.21822969, 0.20293652, 0.21801992, 0.20943097,\n",
            "       0.20796445, 0.21592529, 0.21822969, 0.22639976, 0.20209864,\n",
            "       0.19497608, 0.20461241, 0.19057666, 0.18282532, 0.201051  ,\n",
            "       0.21864869, 0.21822969, 0.14972496, 0.14218339, 0.13296554,\n",
            "       0.14742069, 0.163133  , 0.16124747, 0.12730936, 0.09337112]), array([0.10091837, 0.10753585, 0.11373988, 0.10815631, 0.08478811,\n",
            "       0.09533453, 0.1160147 , 0.13090444, 0.12883661, 0.13028372,\n",
            "       0.11684215, 0.10402011, 0.08809712, 0.102573  , 0.09719616,\n",
            "       0.09471434, 0.10464057, 0.09760949, 0.03329468, 0.03288122,\n",
            "       0.        , 0.01282164, 0.00806526, 0.01879121, 0.01648695,\n",
            "       0.0150203 , 0.06069003, 0.0761927 , 0.09567552, 0.14867758,\n",
            "       0.15140098, 0.17214122, 0.16438949, 0.17716888, 0.2138304 ,\n",
            "       0.21822969, 0.20293652, 0.21801992, 0.20943097, 0.20796445,\n",
            "       0.21592529, 0.21822969, 0.22639976, 0.20209864, 0.19497608,\n",
            "       0.20461241, 0.19057666, 0.18282532, 0.201051  , 0.21864869,\n",
            "       0.21822969, 0.14972496, 0.14218339, 0.13296554, 0.14742069,\n",
            "       0.163133  , 0.16124747, 0.12730936, 0.09337112, 0.12793774])]\n",
            "[array([0.12793774]), array([0.12919489])]\n",
            "\n"
          ],
          "name": "stdout"
        }
      ]
    },
    {
      "cell_type": "code",
      "metadata": {
        "id": "8qR5ozhTNWRe"
      },
      "source": [
        "# Convert X_train and y_train to numpy arrays for training LSTM model\n",
        "X_train, y_train = np.array(X_train), np.array(y_train)"
      ],
      "execution_count": null,
      "outputs": []
    },
    {
      "cell_type": "code",
      "metadata": {
        "colab": {
          "base_uri": "https://localhost:8080/"
        },
        "id": "Hg1ntS0FNiUj",
        "outputId": "5e9c9a04-c61c-4989-81a3-0c1bbc89cb2f"
      },
      "source": [
        "# Reshape the data as LSTM expects 3-D data (samples, time steps, features)\n",
        "\n",
        "X_train = np.reshape(X_train, (X_train.shape[0], X_train.shape[1], 1))\n",
        "X_train.shape"
      ],
      "execution_count": null,
      "outputs": [
        {
          "output_type": "execute_result",
          "data": {
            "text/plain": [
              "(948, 60, 1)"
            ]
          },
          "metadata": {
            "tags": []
          },
          "execution_count": 13
        }
      ]
    },
    {
      "cell_type": "markdown",
      "metadata": {
        "id": "eOQRD4UNiGPu"
      },
      "source": [
        "### Create and train model\n",
        "\n",
        "We will create and train a model with four recurrent layers each with 50 neurons, input shape of data with number of time steps (60) and dimensionality (1), and an output layer with time step of 1, and the tanh activation function. Dropout will be used after each hidden layer as a regularisation technique to prevent overfitting. The model will be compiled using the Mean Squared Error loss function and the adam (Adaptive Moment Estimation) optimizer then fitted on the training set for 200 epochs with a batch size of 64."
      ]
    },
    {
      "cell_type": "code",
      "metadata": {
        "colab": {
          "base_uri": "https://localhost:8080/"
        },
        "id": "b006LbSw91vK",
        "outputId": "0cab8b0d-5061-41d3-ca5e-35a7766f0970"
      },
      "source": [
        "# Build model - LSTM with 50 neurons and 4 hidden layers  \n",
        "\n",
        "model = Sequential()\n",
        "#Adding the first LSTM layer and some Dropout regularisation\n",
        "model.add(LSTM(units = 50, return_sequences = True, input_shape = (X_train.shape[1], 1), activation='tanh'))\n",
        "model.add(Dropout(0.2))\n",
        "# Adding a second LSTM layer and some Dropout regularisation\n",
        "model.add(LSTM(units = 50, return_sequences = True, activation='tanh'))\n",
        "model.add(Dropout(0.2))\n",
        "# Adding a third LSTM layer and some Dropout regularisation\n",
        "model.add(LSTM(units = 50, return_sequences = True, activation='tanh'))\n",
        "model.add(Dropout(0.2))\n",
        "# Adding a fourth LSTM layer and some Dropout regularisation\n",
        "model.add(LSTM(units = 50, activation='tanh'))\n",
        "model.add(Dropout(0.2))\n",
        "# Adding the output layer\n",
        "model.add(Dense(units = 1))\n",
        "# Compiling the RNN\n",
        "model.compile(optimizer = 'adam', loss = 'mean_squared_error')\n",
        "# Fitting the RNN to the Training set\n",
        "model.fit(X_train, y_train, epochs = 200, batch_size = 64)"
      ],
      "execution_count": null,
      "outputs": [
        {
          "output_type": "stream",
          "text": [
            "Epoch 1/200\n",
            "15/15 [==============================] - 7s 124ms/step - loss: 0.1005\n",
            "Epoch 2/200\n",
            "15/15 [==============================] - 2s 125ms/step - loss: 0.0184\n",
            "Epoch 3/200\n",
            "15/15 [==============================] - 2s 124ms/step - loss: 0.0109\n",
            "Epoch 4/200\n",
            "15/15 [==============================] - 2s 123ms/step - loss: 0.0122\n",
            "Epoch 5/200\n",
            "15/15 [==============================] - 2s 127ms/step - loss: 0.0111\n",
            "Epoch 6/200\n",
            "15/15 [==============================] - 2s 126ms/step - loss: 0.0105\n",
            "Epoch 7/200\n",
            "15/15 [==============================] - 2s 127ms/step - loss: 0.0100\n",
            "Epoch 8/200\n",
            "15/15 [==============================] - 2s 126ms/step - loss: 0.0106\n",
            "Epoch 9/200\n",
            "15/15 [==============================] - 2s 127ms/step - loss: 0.0093\n",
            "Epoch 10/200\n",
            "15/15 [==============================] - 2s 128ms/step - loss: 0.0092\n",
            "Epoch 11/200\n",
            "15/15 [==============================] - 2s 127ms/step - loss: 0.0079\n",
            "Epoch 12/200\n",
            "15/15 [==============================] - 2s 126ms/step - loss: 0.0082\n",
            "Epoch 13/200\n",
            "15/15 [==============================] - 2s 128ms/step - loss: 0.0076\n",
            "Epoch 14/200\n",
            "15/15 [==============================] - 2s 128ms/step - loss: 0.0077\n",
            "Epoch 15/200\n",
            "15/15 [==============================] - 2s 127ms/step - loss: 0.0076\n",
            "Epoch 16/200\n",
            "15/15 [==============================] - 2s 127ms/step - loss: 0.0075\n",
            "Epoch 17/200\n",
            "15/15 [==============================] - 2s 128ms/step - loss: 0.0079\n",
            "Epoch 18/200\n",
            "15/15 [==============================] - 2s 128ms/step - loss: 0.0072\n",
            "Epoch 19/200\n",
            "15/15 [==============================] - 2s 126ms/step - loss: 0.0077\n",
            "Epoch 20/200\n",
            "15/15 [==============================] - 2s 126ms/step - loss: 0.0069\n",
            "Epoch 21/200\n",
            "15/15 [==============================] - 2s 127ms/step - loss: 0.0069\n",
            "Epoch 22/200\n",
            "15/15 [==============================] - 2s 126ms/step - loss: 0.0069\n",
            "Epoch 23/200\n",
            "15/15 [==============================] - 2s 127ms/step - loss: 0.0067\n",
            "Epoch 24/200\n",
            "15/15 [==============================] - 2s 128ms/step - loss: 0.0062\n",
            "Epoch 25/200\n",
            "15/15 [==============================] - 2s 128ms/step - loss: 0.0071\n",
            "Epoch 26/200\n",
            "15/15 [==============================] - 2s 125ms/step - loss: 0.0065\n",
            "Epoch 27/200\n",
            "15/15 [==============================] - 2s 124ms/step - loss: 0.0063\n",
            "Epoch 28/200\n",
            "15/15 [==============================] - 2s 128ms/step - loss: 0.0054\n",
            "Epoch 29/200\n",
            "15/15 [==============================] - 2s 129ms/step - loss: 0.0054\n",
            "Epoch 30/200\n",
            "15/15 [==============================] - 2s 129ms/step - loss: 0.0056\n",
            "Epoch 31/200\n",
            "15/15 [==============================] - 2s 126ms/step - loss: 0.0056\n",
            "Epoch 32/200\n",
            "15/15 [==============================] - 2s 128ms/step - loss: 0.0052\n",
            "Epoch 33/200\n",
            "15/15 [==============================] - 2s 126ms/step - loss: 0.0056\n",
            "Epoch 34/200\n",
            "15/15 [==============================] - 2s 128ms/step - loss: 0.0061\n",
            "Epoch 35/200\n",
            "15/15 [==============================] - 2s 127ms/step - loss: 0.0054\n",
            "Epoch 36/200\n",
            "15/15 [==============================] - 2s 126ms/step - loss: 0.0058\n",
            "Epoch 37/200\n",
            "15/15 [==============================] - 2s 128ms/step - loss: 0.0061\n",
            "Epoch 38/200\n",
            "15/15 [==============================] - 2s 129ms/step - loss: 0.0061\n",
            "Epoch 39/200\n",
            "15/15 [==============================] - 2s 126ms/step - loss: 0.0050\n",
            "Epoch 40/200\n",
            "15/15 [==============================] - 2s 126ms/step - loss: 0.0059\n",
            "Epoch 41/200\n",
            "15/15 [==============================] - 2s 127ms/step - loss: 0.0049\n",
            "Epoch 42/200\n",
            "15/15 [==============================] - 2s 128ms/step - loss: 0.0053\n",
            "Epoch 43/200\n",
            "15/15 [==============================] - 2s 129ms/step - loss: 0.0047\n",
            "Epoch 44/200\n",
            "15/15 [==============================] - 2s 129ms/step - loss: 0.0054\n",
            "Epoch 45/200\n",
            "15/15 [==============================] - 2s 130ms/step - loss: 0.0049\n",
            "Epoch 46/200\n",
            "15/15 [==============================] - 2s 130ms/step - loss: 0.0049\n",
            "Epoch 47/200\n",
            "15/15 [==============================] - 2s 130ms/step - loss: 0.0046\n",
            "Epoch 48/200\n",
            "15/15 [==============================] - 2s 129ms/step - loss: 0.0047\n",
            "Epoch 49/200\n",
            "15/15 [==============================] - 2s 127ms/step - loss: 0.0044\n",
            "Epoch 50/200\n",
            "15/15 [==============================] - 2s 129ms/step - loss: 0.0047\n",
            "Epoch 51/200\n",
            "15/15 [==============================] - 2s 127ms/step - loss: 0.0041\n",
            "Epoch 52/200\n",
            "15/15 [==============================] - 2s 129ms/step - loss: 0.0038\n",
            "Epoch 53/200\n",
            "15/15 [==============================] - 2s 127ms/step - loss: 0.0044\n",
            "Epoch 54/200\n",
            "15/15 [==============================] - 2s 126ms/step - loss: 0.0041\n",
            "Epoch 55/200\n",
            "15/15 [==============================] - 2s 127ms/step - loss: 0.0046\n",
            "Epoch 56/200\n",
            "15/15 [==============================] - 2s 129ms/step - loss: 0.0054\n",
            "Epoch 57/200\n",
            "15/15 [==============================] - 2s 129ms/step - loss: 0.0041\n",
            "Epoch 58/200\n",
            "15/15 [==============================] - 2s 126ms/step - loss: 0.0043\n",
            "Epoch 59/200\n",
            "15/15 [==============================] - 2s 127ms/step - loss: 0.0043\n",
            "Epoch 60/200\n",
            "15/15 [==============================] - 2s 129ms/step - loss: 0.0040\n",
            "Epoch 61/200\n",
            "15/15 [==============================] - 2s 127ms/step - loss: 0.0034\n",
            "Epoch 62/200\n",
            "15/15 [==============================] - 2s 126ms/step - loss: 0.0034\n",
            "Epoch 63/200\n",
            "15/15 [==============================] - 2s 128ms/step - loss: 0.0038\n",
            "Epoch 64/200\n",
            "15/15 [==============================] - 2s 127ms/step - loss: 0.0034\n",
            "Epoch 65/200\n",
            "15/15 [==============================] - 2s 129ms/step - loss: 0.0034\n",
            "Epoch 66/200\n",
            "15/15 [==============================] - 2s 128ms/step - loss: 0.0034\n",
            "Epoch 67/200\n",
            "15/15 [==============================] - 2s 129ms/step - loss: 0.0029\n",
            "Epoch 68/200\n",
            "15/15 [==============================] - 2s 129ms/step - loss: 0.0039\n",
            "Epoch 69/200\n",
            "15/15 [==============================] - 2s 128ms/step - loss: 0.0038\n",
            "Epoch 70/200\n",
            "15/15 [==============================] - 2s 127ms/step - loss: 0.0033\n",
            "Epoch 71/200\n",
            "15/15 [==============================] - 2s 127ms/step - loss: 0.0032\n",
            "Epoch 72/200\n",
            "15/15 [==============================] - 2s 130ms/step - loss: 0.0032\n",
            "Epoch 73/200\n",
            "15/15 [==============================] - 2s 129ms/step - loss: 0.0028\n",
            "Epoch 74/200\n",
            "15/15 [==============================] - 2s 127ms/step - loss: 0.0031\n",
            "Epoch 75/200\n",
            "15/15 [==============================] - 2s 129ms/step - loss: 0.0034\n",
            "Epoch 76/200\n",
            "15/15 [==============================] - 2s 131ms/step - loss: 0.0033\n",
            "Epoch 77/200\n",
            "15/15 [==============================] - 2s 130ms/step - loss: 0.0033\n",
            "Epoch 78/200\n",
            "15/15 [==============================] - 2s 129ms/step - loss: 0.0042\n",
            "Epoch 79/200\n",
            "15/15 [==============================] - 2s 129ms/step - loss: 0.0036\n",
            "Epoch 80/200\n",
            "15/15 [==============================] - 2s 129ms/step - loss: 0.0035\n",
            "Epoch 81/200\n",
            "15/15 [==============================] - 2s 129ms/step - loss: 0.0027\n",
            "Epoch 82/200\n",
            "15/15 [==============================] - 2s 130ms/step - loss: 0.0029\n",
            "Epoch 83/200\n",
            "15/15 [==============================] - 2s 130ms/step - loss: 0.0033\n",
            "Epoch 84/200\n",
            "15/15 [==============================] - 2s 128ms/step - loss: 0.0029\n",
            "Epoch 85/200\n",
            "15/15 [==============================] - 2s 126ms/step - loss: 0.0032\n",
            "Epoch 86/200\n",
            "15/15 [==============================] - 2s 127ms/step - loss: 0.0029\n",
            "Epoch 87/200\n",
            "15/15 [==============================] - 2s 129ms/step - loss: 0.0030\n",
            "Epoch 88/200\n",
            "15/15 [==============================] - 2s 131ms/step - loss: 0.0033\n",
            "Epoch 89/200\n",
            "15/15 [==============================] - 2s 129ms/step - loss: 0.0031\n",
            "Epoch 90/200\n",
            "15/15 [==============================] - 2s 129ms/step - loss: 0.0032\n",
            "Epoch 91/200\n",
            "15/15 [==============================] - 2s 130ms/step - loss: 0.0026\n",
            "Epoch 92/200\n",
            "15/15 [==============================] - 2s 130ms/step - loss: 0.0031\n",
            "Epoch 93/200\n",
            "15/15 [==============================] - 2s 132ms/step - loss: 0.0029\n",
            "Epoch 94/200\n",
            "15/15 [==============================] - 2s 128ms/step - loss: 0.0030\n",
            "Epoch 95/200\n",
            "15/15 [==============================] - 2s 126ms/step - loss: 0.0035\n",
            "Epoch 96/200\n",
            "15/15 [==============================] - 2s 129ms/step - loss: 0.0028\n",
            "Epoch 97/200\n",
            "15/15 [==============================] - 2s 129ms/step - loss: 0.0031\n",
            "Epoch 98/200\n",
            "15/15 [==============================] - 2s 129ms/step - loss: 0.0027\n",
            "Epoch 99/200\n",
            "15/15 [==============================] - 2s 129ms/step - loss: 0.0025\n",
            "Epoch 100/200\n",
            "15/15 [==============================] - 2s 129ms/step - loss: 0.0028\n",
            "Epoch 101/200\n",
            "15/15 [==============================] - 2s 133ms/step - loss: 0.0029\n",
            "Epoch 102/200\n",
            "15/15 [==============================] - 2s 128ms/step - loss: 0.0029\n",
            "Epoch 103/200\n",
            "15/15 [==============================] - 2s 129ms/step - loss: 0.0034\n",
            "Epoch 104/200\n",
            "15/15 [==============================] - 2s 129ms/step - loss: 0.0029\n",
            "Epoch 105/200\n",
            "15/15 [==============================] - 2s 128ms/step - loss: 0.0026\n",
            "Epoch 106/200\n",
            "15/15 [==============================] - 2s 126ms/step - loss: 0.0029\n",
            "Epoch 107/200\n",
            "15/15 [==============================] - 2s 128ms/step - loss: 0.0025\n",
            "Epoch 108/200\n",
            "15/15 [==============================] - 2s 127ms/step - loss: 0.0023\n",
            "Epoch 109/200\n",
            "15/15 [==============================] - 2s 129ms/step - loss: 0.0023\n",
            "Epoch 110/200\n",
            "15/15 [==============================] - 2s 128ms/step - loss: 0.0024\n",
            "Epoch 111/200\n",
            "15/15 [==============================] - 2s 127ms/step - loss: 0.0027\n",
            "Epoch 112/200\n",
            "15/15 [==============================] - 2s 127ms/step - loss: 0.0024\n",
            "Epoch 113/200\n",
            "15/15 [==============================] - 2s 130ms/step - loss: 0.0024\n",
            "Epoch 114/200\n",
            "15/15 [==============================] - 2s 128ms/step - loss: 0.0025\n",
            "Epoch 115/200\n",
            "15/15 [==============================] - 2s 129ms/step - loss: 0.0026\n",
            "Epoch 116/200\n",
            "15/15 [==============================] - 2s 129ms/step - loss: 0.0021\n",
            "Epoch 117/200\n",
            "15/15 [==============================] - 2s 128ms/step - loss: 0.0024\n",
            "Epoch 118/200\n",
            "15/15 [==============================] - 2s 127ms/step - loss: 0.0024\n",
            "Epoch 119/200\n",
            "15/15 [==============================] - 2s 129ms/step - loss: 0.0029\n",
            "Epoch 120/200\n",
            "15/15 [==============================] - 2s 131ms/step - loss: 0.0024\n",
            "Epoch 121/200\n",
            "15/15 [==============================] - 2s 127ms/step - loss: 0.0027\n",
            "Epoch 122/200\n",
            "15/15 [==============================] - 2s 130ms/step - loss: 0.0023\n",
            "Epoch 123/200\n",
            "15/15 [==============================] - 2s 131ms/step - loss: 0.0025\n",
            "Epoch 124/200\n",
            "15/15 [==============================] - 2s 130ms/step - loss: 0.0023\n",
            "Epoch 125/200\n",
            "15/15 [==============================] - 2s 132ms/step - loss: 0.0022\n",
            "Epoch 126/200\n",
            "15/15 [==============================] - 2s 129ms/step - loss: 0.0024\n",
            "Epoch 127/200\n",
            "15/15 [==============================] - 2s 128ms/step - loss: 0.0026\n",
            "Epoch 128/200\n",
            "15/15 [==============================] - 2s 128ms/step - loss: 0.0029\n",
            "Epoch 129/200\n",
            "15/15 [==============================] - 2s 130ms/step - loss: 0.0026\n",
            "Epoch 130/200\n",
            "15/15 [==============================] - 2s 129ms/step - loss: 0.0025\n",
            "Epoch 131/200\n",
            "15/15 [==============================] - 2s 131ms/step - loss: 0.0023\n",
            "Epoch 132/200\n",
            "15/15 [==============================] - 2s 128ms/step - loss: 0.0026\n",
            "Epoch 133/200\n",
            "15/15 [==============================] - 2s 129ms/step - loss: 0.0022\n",
            "Epoch 134/200\n",
            "15/15 [==============================] - 2s 130ms/step - loss: 0.0022\n",
            "Epoch 135/200\n",
            "15/15 [==============================] - 2s 130ms/step - loss: 0.0022\n",
            "Epoch 136/200\n",
            "15/15 [==============================] - 2s 131ms/step - loss: 0.0019\n",
            "Epoch 137/200\n",
            "15/15 [==============================] - 2s 128ms/step - loss: 0.0022\n",
            "Epoch 138/200\n",
            "15/15 [==============================] - 2s 130ms/step - loss: 0.0022\n",
            "Epoch 139/200\n",
            "15/15 [==============================] - 2s 129ms/step - loss: 0.0021\n",
            "Epoch 140/200\n",
            "15/15 [==============================] - 2s 131ms/step - loss: 0.0024\n",
            "Epoch 141/200\n",
            "15/15 [==============================] - 2s 133ms/step - loss: 0.0026\n",
            "Epoch 142/200\n",
            "15/15 [==============================] - 2s 130ms/step - loss: 0.0026\n",
            "Epoch 143/200\n",
            "15/15 [==============================] - 2s 128ms/step - loss: 0.0027\n",
            "Epoch 144/200\n",
            "15/15 [==============================] - 2s 129ms/step - loss: 0.0026\n",
            "Epoch 145/200\n",
            "15/15 [==============================] - 2s 131ms/step - loss: 0.0027\n",
            "Epoch 146/200\n",
            "15/15 [==============================] - 2s 126ms/step - loss: 0.0021\n",
            "Epoch 147/200\n",
            "15/15 [==============================] - 2s 130ms/step - loss: 0.0023\n",
            "Epoch 148/200\n",
            "15/15 [==============================] - 2s 129ms/step - loss: 0.0022\n",
            "Epoch 149/200\n",
            "15/15 [==============================] - 2s 127ms/step - loss: 0.0025\n",
            "Epoch 150/200\n",
            "15/15 [==============================] - 2s 129ms/step - loss: 0.0021\n",
            "Epoch 151/200\n",
            "15/15 [==============================] - 2s 128ms/step - loss: 0.0026\n",
            "Epoch 152/200\n",
            "15/15 [==============================] - 2s 128ms/step - loss: 0.0024\n",
            "Epoch 153/200\n",
            "15/15 [==============================] - 2s 128ms/step - loss: 0.0024\n",
            "Epoch 154/200\n",
            "15/15 [==============================] - 2s 128ms/step - loss: 0.0022\n",
            "Epoch 155/200\n",
            "15/15 [==============================] - 2s 129ms/step - loss: 0.0021\n",
            "Epoch 156/200\n",
            "15/15 [==============================] - 2s 130ms/step - loss: 0.0023\n",
            "Epoch 157/200\n",
            "15/15 [==============================] - 2s 129ms/step - loss: 0.0019\n",
            "Epoch 158/200\n",
            "15/15 [==============================] - 2s 129ms/step - loss: 0.0026\n",
            "Epoch 159/200\n",
            "15/15 [==============================] - 2s 128ms/step - loss: 0.0020\n",
            "Epoch 160/200\n",
            "15/15 [==============================] - 2s 130ms/step - loss: 0.0020\n",
            "Epoch 161/200\n",
            "15/15 [==============================] - 2s 129ms/step - loss: 0.0025\n",
            "Epoch 162/200\n",
            "15/15 [==============================] - 2s 129ms/step - loss: 0.0022\n",
            "Epoch 163/200\n",
            "15/15 [==============================] - 2s 130ms/step - loss: 0.0022\n",
            "Epoch 164/200\n",
            "15/15 [==============================] - 2s 130ms/step - loss: 0.0019\n",
            "Epoch 165/200\n",
            "15/15 [==============================] - 2s 130ms/step - loss: 0.0021\n",
            "Epoch 166/200\n",
            "15/15 [==============================] - 2s 131ms/step - loss: 0.0022\n",
            "Epoch 167/200\n",
            "15/15 [==============================] - 2s 131ms/step - loss: 0.0022\n",
            "Epoch 168/200\n",
            "15/15 [==============================] - 2s 132ms/step - loss: 0.0018\n",
            "Epoch 169/200\n",
            "15/15 [==============================] - 2s 131ms/step - loss: 0.0018\n",
            "Epoch 170/200\n",
            "15/15 [==============================] - 2s 130ms/step - loss: 0.0022\n",
            "Epoch 171/200\n",
            "15/15 [==============================] - 2s 131ms/step - loss: 0.0021\n",
            "Epoch 172/200\n",
            "15/15 [==============================] - 2s 130ms/step - loss: 0.0021\n",
            "Epoch 173/200\n",
            "15/15 [==============================] - 2s 130ms/step - loss: 0.0018\n",
            "Epoch 174/200\n",
            "15/15 [==============================] - 2s 131ms/step - loss: 0.0023\n",
            "Epoch 175/200\n",
            "15/15 [==============================] - 2s 129ms/step - loss: 0.0022\n",
            "Epoch 176/200\n",
            "15/15 [==============================] - 2s 131ms/step - loss: 0.0020\n",
            "Epoch 177/200\n",
            "15/15 [==============================] - 2s 130ms/step - loss: 0.0022\n",
            "Epoch 178/200\n",
            "15/15 [==============================] - 2s 130ms/step - loss: 0.0019\n",
            "Epoch 179/200\n",
            "15/15 [==============================] - 2s 131ms/step - loss: 0.0021\n",
            "Epoch 180/200\n",
            "15/15 [==============================] - 2s 131ms/step - loss: 0.0023\n",
            "Epoch 181/200\n",
            "15/15 [==============================] - 2s 130ms/step - loss: 0.0019\n",
            "Epoch 182/200\n",
            "15/15 [==============================] - 2s 130ms/step - loss: 0.0020\n",
            "Epoch 183/200\n",
            "15/15 [==============================] - 2s 129ms/step - loss: 0.0020\n",
            "Epoch 184/200\n",
            "15/15 [==============================] - 2s 133ms/step - loss: 0.0020\n",
            "Epoch 185/200\n",
            "15/15 [==============================] - 2s 130ms/step - loss: 0.0018\n",
            "Epoch 186/200\n",
            "15/15 [==============================] - 2s 130ms/step - loss: 0.0027\n",
            "Epoch 187/200\n",
            "15/15 [==============================] - 2s 131ms/step - loss: 0.0018\n",
            "Epoch 188/200\n",
            "15/15 [==============================] - 2s 129ms/step - loss: 0.0019\n",
            "Epoch 189/200\n",
            "15/15 [==============================] - 2s 131ms/step - loss: 0.0021\n",
            "Epoch 190/200\n",
            "15/15 [==============================] - 2s 129ms/step - loss: 0.0019\n",
            "Epoch 191/200\n",
            "15/15 [==============================] - 2s 130ms/step - loss: 0.0018\n",
            "Epoch 192/200\n",
            "15/15 [==============================] - 2s 131ms/step - loss: 0.0021\n",
            "Epoch 193/200\n",
            "15/15 [==============================] - 2s 129ms/step - loss: 0.0015\n",
            "Epoch 194/200\n",
            "15/15 [==============================] - 2s 129ms/step - loss: 0.0020\n",
            "Epoch 195/200\n",
            "15/15 [==============================] - 2s 129ms/step - loss: 0.0016\n",
            "Epoch 196/200\n",
            "15/15 [==============================] - 2s 131ms/step - loss: 0.0018\n",
            "Epoch 197/200\n",
            "15/15 [==============================] - 2s 128ms/step - loss: 0.0018\n",
            "Epoch 198/200\n",
            "15/15 [==============================] - 2s 130ms/step - loss: 0.0022\n",
            "Epoch 199/200\n",
            "15/15 [==============================] - 2s 132ms/step - loss: 0.0022\n",
            "Epoch 200/200\n",
            "15/15 [==============================] - 2s 132ms/step - loss: 0.0018\n"
          ],
          "name": "stdout"
        },
        {
          "output_type": "execute_result",
          "data": {
            "text/plain": [
              "<tensorflow.python.keras.callbacks.History at 0x7f10a9a87e90>"
            ]
          },
          "metadata": {
            "tags": []
          },
          "execution_count": 26
        }
      ]
    },
    {
      "cell_type": "markdown",
      "metadata": {
        "id": "VBvC_vU-IXAE"
      },
      "source": [
        "### Create test set"
      ]
    },
    {
      "cell_type": "code",
      "metadata": {
        "id": "yRa3UBDJRvhw"
      },
      "source": [
        "test = azn_adj_arr[training_data_len: , :]"
      ],
      "execution_count": null,
      "outputs": []
    },
    {
      "cell_type": "code",
      "metadata": {
        "colab": {
          "base_uri": "https://localhost:8080/"
        },
        "id": "Oau4UaBaIZFo",
        "outputId": "075d30af-fce1-4885-c098-ee8a925e595e"
      },
      "source": [
        "test.shape"
      ],
      "execution_count": null,
      "outputs": [
        {
          "output_type": "execute_result",
          "data": {
            "text/plain": [
              "(253, 1)"
            ]
          },
          "metadata": {
            "tags": []
          },
          "execution_count": 28
        }
      ]
    },
    {
      "cell_type": "code",
      "metadata": {
        "id": "_VtmWBHeJbiy"
      },
      "source": [
        "# Predicting 253 values, using past 60 from the train data\n",
        "inputs = azn_adj_arr[len(azn_adj_arr) - len(test) - 60:]\n",
        "inputs = inputs.reshape(-1,1)\n",
        "inputs  = scaler.transform(inputs)"
      ],
      "execution_count": null,
      "outputs": []
    },
    {
      "cell_type": "code",
      "metadata": {
        "id": "4DhTFCF0JnAR"
      },
      "source": [
        "# Create data sets X_test and y_test\n",
        "X_test = []\n",
        "y_test = azn_adj_arr[training_data_len:, :]\n",
        "for i in range(60,inputs.shape[0]):\n",
        "    X_test.append(inputs[i-60:i,0])"
      ],
      "execution_count": null,
      "outputs": []
    },
    {
      "cell_type": "code",
      "metadata": {
        "id": "7eu95NzSJyp4"
      },
      "source": [
        "# Convert data to numpy array\n",
        "X_test = np.array(X_test)"
      ],
      "execution_count": null,
      "outputs": []
    },
    {
      "cell_type": "code",
      "metadata": {
        "id": "ZAsaA4HlJ0qd"
      },
      "source": [
        "# Reshape data to be 3-D\n",
        "X_test = np.reshape(X_test, (X_test.shape[0], X_test.shape[1], 1))"
      ],
      "execution_count": null,
      "outputs": []
    },
    {
      "cell_type": "code",
      "metadata": {
        "colab": {
          "base_uri": "https://localhost:8080/"
        },
        "id": "MvvdtFwmJ3U8",
        "outputId": "84732df7-874a-4815-9104-c58a2b46b6e0"
      },
      "source": [
        "print(X_test.shape)"
      ],
      "execution_count": null,
      "outputs": [
        {
          "output_type": "stream",
          "text": [
            "(253, 60, 1)\n"
          ],
          "name": "stdout"
        }
      ]
    },
    {
      "cell_type": "markdown",
      "metadata": {
        "id": "kTMfgcN-OBbP"
      },
      "source": [
        "### Make Predictions using the test set"
      ]
    },
    {
      "cell_type": "code",
      "metadata": {
        "id": "o3viU3AtJ52z"
      },
      "source": [
        "# We want predictions to contain same values as y_test data set\n",
        "predictions = model.predict(X_test)\n",
        "predictions = scaler.inverse_transform(predictions)"
      ],
      "execution_count": null,
      "outputs": []
    },
    {
      "cell_type": "code",
      "metadata": {
        "colab": {
          "base_uri": "https://localhost:8080/"
        },
        "id": "mLRcbQTgJ9g7",
        "outputId": "8b2f1f08-b9db-4aa0-b5b3-f99603658227"
      },
      "source": [
        "predictions.shape"
      ],
      "execution_count": null,
      "outputs": [
        {
          "output_type": "execute_result",
          "data": {
            "text/plain": [
              "(253, 1)"
            ]
          },
          "metadata": {
            "tags": []
          },
          "execution_count": 35
        }
      ]
    },
    {
      "cell_type": "markdown",
      "metadata": {
        "id": "lJc5utZCOq48"
      },
      "source": [
        "### Calculate the RMSE using the actual values\n",
        "\n",
        "RMSE is the standard deviation of the residuals and is a good measure of how accurately the model predicts the reponse. Lower values of RMSE indicate a better fit."
      ]
    },
    {
      "cell_type": "code",
      "metadata": {
        "colab": {
          "base_uri": "https://localhost:8080/"
        },
        "id": "oKgR_WslgLx1",
        "outputId": "5a0635fa-b934-4d4a-a13f-59ce5e2a0bed"
      },
      "source": [
        "rmse = np.sqrt(np.mean(predictions - y_test)**2)  \n",
        "rmse"
      ],
      "execution_count": null,
      "outputs": [
        {
          "output_type": "execute_result",
          "data": {
            "text/plain": [
              "78.81636572072628"
            ]
          },
          "metadata": {
            "tags": []
          },
          "execution_count": 36
        }
      ]
    },
    {
      "cell_type": "code",
      "metadata": {
        "colab": {
          "base_uri": "https://localhost:8080/",
          "height": 614
        },
        "id": "YJJqs8AngRn8",
        "outputId": "df3a958a-af26-4e04-e8c6-825af255ac55"
      },
      "source": [
        "# Plot predicted vs actual values  \n",
        "train = azn_adj[:training_data_len]\n",
        "test = azn_adj[training_data_len:]\n",
        "test['Predictions'] = predictions\n",
        "\n",
        "plt.figure(figsize=(20,10))\n",
        "sns.set_style(\"whitegrid\")\n",
        "plt.plot(train['Adj Close'], label='Training')\n",
        "plt.plot(test['Adj Close'], label='Actual')\n",
        "plt.plot(test['Predictions'], label='Predicted')\n",
        "plt.title(\"AZN Close Price - LSTM\", color = 'black', fontsize = 20)\n",
        "plt.xlabel('Year', color = 'black', fontsize = 15)\n",
        "plt.ylabel('Stock Price', color = 'black', fontsize = 15)\n",
        "plt.legend();"
      ],
      "execution_count": null,
      "outputs": [
        {
          "output_type": "display_data",
          "data": {
            "image/png": "[encoded data removed]",
            "text/plain": [
              "<Figure size 1440x720 with 1 Axes>"
            ]
          },
          "metadata": {
            "tags": [],
            "needs_background": "light"
          }
        }
      ]
    },
    {
      "cell_type": "markdown",
      "metadata": {
        "id": "_E01zyR8094G"
      },
      "source": [
        "### DataFrame of actual vs predicted prices plotted above"
      ]
    },
    {
      "cell_type": "code",
      "metadata": {
        "colab": {
          "base_uri": "https://localhost:8080/",
          "height": 450
        },
        "id": "G3jVmbApP0ZD",
        "outputId": "2acceaf6-0788-4921-d7fb-103a09088a3b"
      },
      "source": [
        "# Show the actual and predicted prices  \n",
        "\n",
        "test"
      ],
      "execution_count": null,
      "outputs": [
        {
          "output_type": "execute_result",
          "data": {
            "text/html": [
              "<div>\n",
              "<style scoped>\n",
              "    .dataframe tbody tr th:only-of-type {\n",
              "        vertical-align: middle;\n",
              "    }\n",
              "\n",
              "    .dataframe tbody tr th {\n",
              "        vertical-align: top;\n",
              "    }\n",
              "\n",
              "    .dataframe thead th {\n",
              "        text-align: right;\n",
              "    }\n",
              "</style>\n",
              "<table border=\"1\" class=\"dataframe\">\n",
              "  <thead>\n",
              "    <tr style=\"text-align: right;\">\n",
              "      <th></th>\n",
              "      <th>Adj Close</th>\n",
              "      <th>Predictions</th>\n",
              "    </tr>\n",
              "    <tr>\n",
              "      <th>Date</th>\n",
              "      <th></th>\n",
              "      <th></th>\n",
              "    </tr>\n",
              "  </thead>\n",
              "  <tbody>\n",
              "    <tr>\n",
              "      <th>2018-07-11</th>\n",
              "      <td>4784.962402</td>\n",
              "      <td>4836.467285</td>\n",
              "    </tr>\n",
              "    <tr>\n",
              "      <th>2018-07-12</th>\n",
              "      <td>4952.665039</td>\n",
              "      <td>4822.513672</td>\n",
              "    </tr>\n",
              "    <tr>\n",
              "      <th>2018-07-13</th>\n",
              "      <td>5014.641602</td>\n",
              "      <td>4940.193359</td>\n",
              "    </tr>\n",
              "    <tr>\n",
              "      <th>2018-07-16</th>\n",
              "      <td>4985.669922</td>\n",
              "      <td>5002.452637</td>\n",
              "    </tr>\n",
              "    <tr>\n",
              "      <th>2018-07-17</th>\n",
              "      <td>5059.300781</td>\n",
              "      <td>5000.371094</td>\n",
              "    </tr>\n",
              "    <tr>\n",
              "      <th>...</th>\n",
              "      <td>...</td>\n",
              "      <td>...</td>\n",
              "    </tr>\n",
              "    <tr>\n",
              "      <th>2019-07-04</th>\n",
              "      <td>6209.681152</td>\n",
              "      <td>5907.742188</td>\n",
              "    </tr>\n",
              "    <tr>\n",
              "      <th>2019-07-05</th>\n",
              "      <td>6161.537109</td>\n",
              "      <td>5908.046875</td>\n",
              "    </tr>\n",
              "    <tr>\n",
              "      <th>2019-07-08</th>\n",
              "      <td>6076.576660</td>\n",
              "      <td>5894.851562</td>\n",
              "    </tr>\n",
              "    <tr>\n",
              "      <th>2019-07-09</th>\n",
              "      <td>6113.392090</td>\n",
              "      <td>5862.745605</td>\n",
              "    </tr>\n",
              "    <tr>\n",
              "      <th>2019-07-10</th>\n",
              "      <td>6125.665039</td>\n",
              "      <td>5866.437500</td>\n",
              "    </tr>\n",
              "  </tbody>\n",
              "</table>\n",
              "<p>253 rows × 2 columns</p>\n",
              "</div>"
            ],
            "text/plain": [
              "              Adj Close  Predictions\n",
              "Date                                \n",
              "2018-07-11  4784.962402  4836.467285\n",
              "2018-07-12  4952.665039  4822.513672\n",
              "2018-07-13  5014.641602  4940.193359\n",
              "2018-07-16  4985.669922  5002.452637\n",
              "2018-07-17  5059.300781  5000.371094\n",
              "...                 ...          ...\n",
              "2019-07-04  6209.681152  5907.742188\n",
              "2019-07-05  6161.537109  5908.046875\n",
              "2019-07-08  6076.576660  5894.851562\n",
              "2019-07-09  6113.392090  5862.745605\n",
              "2019-07-10  6125.665039  5866.437500\n",
              "\n",
              "[253 rows x 2 columns]"
            ]
          },
          "metadata": {
            "tags": []
          },
          "execution_count": 38
        }
      ]
    },
    {
      "cell_type": "markdown",
      "metadata": {
        "id": "6cXvKTUw1Twj"
      },
      "source": [
        "### Predict Adjusted Close price for 11 July 2019"
      ]
    },
    {
      "cell_type": "code",
      "metadata": {
        "colab": {
          "base_uri": "https://localhost:8080/"
        },
        "id": "7IP1b7iIP5sj",
        "outputId": "202b0d23-96cf-438d-818c-d1d17874c6c9"
      },
      "source": [
        "# Predict Adjusted Close price for AZN stock for 11 Jul 2019   \n",
        "# get the quote\n",
        "azn_quote = yf.download(\"AZN.L\", start=\"2015-07-10\", end=\"2019-07-12\")\n",
        "# Create new df\n",
        "new_df = azn_quote.filter(['Adj Close'])\n",
        "# Get last 60 days closing price and convert df to array])\n",
        "last_60_days = new_df[-60:].values\n",
        "# Scale data to be values between 0 and 1\n",
        "last_60_days_scaled = scaler.transform(last_60_days)\n",
        "# Create empty list\n",
        "X_test = []\n",
        "# Append last 60 days \n",
        "X_test.append(last_60_days_scaled)\n",
        "# Convert the X_test data set to numpy array\n",
        "X_test = np.array(X_test)\n",
        "# Reshape data\n",
        "X_test = np.reshape(X_test, (X_test.shape[0], X_test.shape[1], 1))\n",
        "# Get predicted price\n",
        "pred_price = model.predict(X_test)\n",
        "# Undo the scaling\n",
        "pred_price = scaler.inverse_transform(pred_price)\n",
        "print(pred_price)"
      ],
      "execution_count": null,
      "outputs": [
        {
          "output_type": "stream",
          "text": [
            "\r[*********************100%***********************]  1 of 1 completed\n",
            "[[5829.375]]\n"
          ],
          "name": "stdout"
        }
      ]
    },
    {
      "cell_type": "markdown",
      "metadata": {
        "id": "myiZBh-b39f2"
      },
      "source": [
        "### Actual Adjusted Close price for 11 July 2019"
      ]
    },
    {
      "cell_type": "code",
      "metadata": {
        "colab": {
          "base_uri": "https://localhost:8080/"
        },
        "id": "h4-hnAoKP-Xb",
        "outputId": "1de51af2-2df9-4b0d-da39-3aeb81a26979"
      },
      "source": [
        "# Actual price\n",
        "azn_quote2 = yf.download(\"AZN.L\", start=\"2019-07-11\", end=\"2019-07-12\")\n",
        "print(azn_quote2['Adj Close'])"
      ],
      "execution_count": null,
      "outputs": [
        {
          "output_type": "stream",
          "text": [
            "\r[*********************100%***********************]  1 of 1 completed\n",
            "Date\n",
            "2019-07-11    6024.65625\n",
            "Name: Adj Close, dtype: float64\n"
          ],
          "name": "stdout"
        }
      ]
    },
    {
      "cell_type": "markdown",
      "metadata": {
        "id": "YdUAebzNcKfP"
      },
      "source": [
        "The predicted Adjusted Close price for 11 July 2019 was 5829.4, lower than the actual price of 6024.7. Accuracy could be improved by trying different numbers of layers, epochs and batch sizes. "
      ]
    }
  ]
}