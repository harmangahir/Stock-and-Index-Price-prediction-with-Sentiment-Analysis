{
  "cells": [
    {
      "attachments": {},
      "cell_type": "markdown",
      "metadata": {
        "id": "u7BxW7BAumQD"
      },
      "source": [
        "# Deep Learning: Long Short-Term Memory (LSTM)\n",
        "\n",
        "\n",
        "## 1. Introduction\n",
        "\n",
        "Twelve years of Reliance Industry historical stock data will be used to predict Adjusted Close prices by building a multi-layer LSTM Recurrent Neural Network model. The ability to store information over a period of time is useful when dealing with time series data. \n",
        "\n"
      ]
    },
    {
      "attachments": {},
      "cell_type": "markdown",
      "metadata": {
        "id": "xn8Jn7bYyaw0"
      },
      "source": [
        "## 2. Install/import libraries"
      ]
    },
    {
      "cell_type": "code",
      "execution_count": 13,
      "metadata": {
        "id": "vHuikd56lgGy"
      },
      "outputs": [
        {
          "name": "stdout",
          "output_type": "stream",
          "text": [
            "Requirement already satisfied: yfinance in g:\\research project\\stock-and-index-price-prediction-with-sentiment-analysis\\venv\\lib\\site-packages (0.2.18)\n"
          ]
        },
        {
          "name": "stderr",
          "output_type": "stream",
          "text": [
            "ERROR: Could not find a version that satisfies the requirement as (from versions: none)\n",
            "ERROR: No matching distribution found for as\n"
          ]
        }
      ],
      "source": [
        "!pip install yfinance as yfinance"
      ]
    },
    {
      "cell_type": "code",
      "execution_count": 14,
      "metadata": {
        "id": "_qB4iVXillcc"
      },
      "outputs": [],
      "source": [
        "import yfinance as yf\n",
        "\n",
        "import pandas as pd\n",
        "import numpy as np\n",
        "import matplotlib.pyplot as plt\n",
        "import matplotlib.dates as dates\n",
        "import seaborn as sns\n",
        "import math\n",
        "import datetime\n",
        "import keras\n",
        "import warnings\n",
        "warnings.filterwarnings('ignore')\n",
        "\n",
        "from datetime import date, timedelta\n",
        "from keras.models import Sequential\n",
        "from keras.layers import Dense\n",
        "from keras.layers import LSTM\n",
        "from keras.layers import Dropout\n",
        "from keras.layers import *\n",
        "from keras.callbacks import EarlyStopping\n",
        "from sklearn.preprocessing import MinMaxScaler\n",
        "from sklearn.metrics import mean_squared_error\n",
        "from sklearn.metrics import mean_absolute_error\n",
        "\n",
        "%matplotlib inline"
      ]
    },
    {
      "attachments": {},
      "cell_type": "markdown",
      "metadata": {
        "id": "Da8bAEfYyn8K"
      },
      "source": [
        "## 3. Import data\n",
        "\n",
        "Read in Reliance Industry stock data for 2011-2023 downloaded from Yahoo! Finance using yfinance API into a pandas DataFrame."
      ]
    },
    {
      "cell_type": "code",
      "execution_count": 15,
      "metadata": {
        "colab": {
          "base_uri": "https://localhost:8080/",
          "height": 467
        },
        "id": "inrpv-spl23s",
        "outputId": "a82b7502-0a5f-4bf6-bd9b-45e00ca9e69b"
      },
      "outputs": [
        {
          "name": "stdout",
          "output_type": "stream",
          "text": [
            "[*********************100%***********************]  1 of 1 completed\n"
          ]
        },
        {
          "data": {
            "text/html": [
              "<div>\n",
              "<style scoped>\n",
              "    .dataframe tbody tr th:only-of-type {\n",
              "        vertical-align: middle;\n",
              "    }\n",
              "\n",
              "    .dataframe tbody tr th {\n",
              "        vertical-align: top;\n",
              "    }\n",
              "\n",
              "    .dataframe thead th {\n",
              "        text-align: right;\n",
              "    }\n",
              "</style>\n",
              "<table border=\"1\" class=\"dataframe\">\n",
              "  <thead>\n",
              "    <tr style=\"text-align: right;\">\n",
              "      <th></th>\n",
              "      <th>Open</th>\n",
              "      <th>High</th>\n",
              "      <th>Low</th>\n",
              "      <th>Close</th>\n",
              "      <th>Adj Close</th>\n",
              "      <th>Volume</th>\n",
              "    </tr>\n",
              "    <tr>\n",
              "      <th>Date</th>\n",
              "      <th></th>\n",
              "      <th></th>\n",
              "      <th></th>\n",
              "      <th></th>\n",
              "      <th></th>\n",
              "      <th></th>\n",
              "    </tr>\n",
              "  </thead>\n",
              "  <tbody>\n",
              "    <tr>\n",
              "      <th>2021-04-01</th>\n",
              "      <td>2018.000000</td>\n",
              "      <td>2030.000000</td>\n",
              "      <td>2003.150024</td>\n",
              "      <td>2021.849976</td>\n",
              "      <td>2009.317139</td>\n",
              "      <td>5410307</td>\n",
              "    </tr>\n",
              "    <tr>\n",
              "      <th>2021-04-05</th>\n",
              "      <td>2024.949951</td>\n",
              "      <td>2025.000000</td>\n",
              "      <td>1962.099976</td>\n",
              "      <td>1992.599976</td>\n",
              "      <td>1980.248413</td>\n",
              "      <td>6864856</td>\n",
              "    </tr>\n",
              "    <tr>\n",
              "      <th>2021-04-06</th>\n",
              "      <td>2004.000000</td>\n",
              "      <td>2004.949951</td>\n",
              "      <td>1969.000000</td>\n",
              "      <td>1984.300049</td>\n",
              "      <td>1972.000000</td>\n",
              "      <td>6465241</td>\n",
              "    </tr>\n",
              "    <tr>\n",
              "      <th>2021-04-07</th>\n",
              "      <td>2000.000000</td>\n",
              "      <td>2046.900024</td>\n",
              "      <td>1993.300049</td>\n",
              "      <td>2002.849976</td>\n",
              "      <td>1990.434937</td>\n",
              "      <td>11198918</td>\n",
              "    </tr>\n",
              "    <tr>\n",
              "      <th>2021-04-08</th>\n",
              "      <td>2011.000000</td>\n",
              "      <td>2022.000000</td>\n",
              "      <td>1993.000000</td>\n",
              "      <td>2005.349976</td>\n",
              "      <td>1992.919434</td>\n",
              "      <td>7092878</td>\n",
              "    </tr>\n",
              "    <tr>\n",
              "      <th>...</th>\n",
              "      <td>...</td>\n",
              "      <td>...</td>\n",
              "      <td>...</td>\n",
              "      <td>...</td>\n",
              "      <td>...</td>\n",
              "      <td>...</td>\n",
              "    </tr>\n",
              "    <tr>\n",
              "      <th>2023-03-23</th>\n",
              "      <td>2268.000000</td>\n",
              "      <td>2269.899902</td>\n",
              "      <td>2243.050049</td>\n",
              "      <td>2247.800049</td>\n",
              "      <td>2247.800049</td>\n",
              "      <td>7499082</td>\n",
              "    </tr>\n",
              "    <tr>\n",
              "      <th>2023-03-24</th>\n",
              "      <td>2245.250000</td>\n",
              "      <td>2250.000000</td>\n",
              "      <td>2198.000000</td>\n",
              "      <td>2203.300049</td>\n",
              "      <td>2203.300049</td>\n",
              "      <td>5711497</td>\n",
              "    </tr>\n",
              "    <tr>\n",
              "      <th>2023-03-27</th>\n",
              "      <td>2217.500000</td>\n",
              "      <td>2254.000000</td>\n",
              "      <td>2200.199951</td>\n",
              "      <td>2237.550049</td>\n",
              "      <td>2237.550049</td>\n",
              "      <td>6486068</td>\n",
              "    </tr>\n",
              "    <tr>\n",
              "      <th>2023-03-28</th>\n",
              "      <td>2245.000000</td>\n",
              "      <td>2256.500000</td>\n",
              "      <td>2237.000000</td>\n",
              "      <td>2248.000000</td>\n",
              "      <td>2248.000000</td>\n",
              "      <td>5804018</td>\n",
              "    </tr>\n",
              "    <tr>\n",
              "      <th>2023-03-29</th>\n",
              "      <td>2239.000000</td>\n",
              "      <td>2244.800049</td>\n",
              "      <td>2211.100098</td>\n",
              "      <td>2234.699951</td>\n",
              "      <td>2234.699951</td>\n",
              "      <td>8678073</td>\n",
              "    </tr>\n",
              "  </tbody>\n",
              "</table>\n",
              "<p>496 rows × 6 columns</p>\n",
              "</div>"
            ],
            "text/plain": [
              "                   Open         High          Low        Close    Adj Close   \n",
              "Date                                                                          \n",
              "2021-04-01  2018.000000  2030.000000  2003.150024  2021.849976  2009.317139  \\\n",
              "2021-04-05  2024.949951  2025.000000  1962.099976  1992.599976  1980.248413   \n",
              "2021-04-06  2004.000000  2004.949951  1969.000000  1984.300049  1972.000000   \n",
              "2021-04-07  2000.000000  2046.900024  1993.300049  2002.849976  1990.434937   \n",
              "2021-04-08  2011.000000  2022.000000  1993.000000  2005.349976  1992.919434   \n",
              "...                 ...          ...          ...          ...          ...   \n",
              "2023-03-23  2268.000000  2269.899902  2243.050049  2247.800049  2247.800049   \n",
              "2023-03-24  2245.250000  2250.000000  2198.000000  2203.300049  2203.300049   \n",
              "2023-03-27  2217.500000  2254.000000  2200.199951  2237.550049  2237.550049   \n",
              "2023-03-28  2245.000000  2256.500000  2237.000000  2248.000000  2248.000000   \n",
              "2023-03-29  2239.000000  2244.800049  2211.100098  2234.699951  2234.699951   \n",
              "\n",
              "              Volume  \n",
              "Date                  \n",
              "2021-04-01   5410307  \n",
              "2021-04-05   6864856  \n",
              "2021-04-06   6465241  \n",
              "2021-04-07  11198918  \n",
              "2021-04-08   7092878  \n",
              "...              ...  \n",
              "2023-03-23   7499082  \n",
              "2023-03-24   5711497  \n",
              "2023-03-27   6486068  \n",
              "2023-03-28   5804018  \n",
              "2023-03-29   8678073  \n",
              "\n",
              "[496 rows x 6 columns]"
            ]
          },
          "execution_count": 15,
          "metadata": {},
          "output_type": "execute_result"
        }
      ],
      "source": [
        "RI_df = yf.download(\"RELIANCE.NS\", start=\"2021-04-01\", end=\"2023-03-31\")\n",
        "RI_df"
      ]
    },
    {
      "cell_type": "code",
      "execution_count": 16,
      "metadata": {
        "colab": {
          "base_uri": "https://localhost:8080/",
          "height": 495
        },
        "id": "DLWTn0BOzOdb",
        "outputId": "3fefe1fd-c4db-49cb-d1cd-61f208f2a14c"
      },
      "outputs": [
        {
          "data": {
            "image/png": "[encoded data removed]",
            "text/plain": [
              "<Figure size 1600x800 with 1 Axes>"
            ]
          },
          "metadata": {},
          "output_type": "display_data"
        }
      ],
      "source": [
        "# Plot Adjusted Close price\n",
        "\n",
        "RI_df['Adj Close'].plot(grid = True)\n",
        "sns.set(rc={'figure.figsize':(16, 8)})\n",
        "plt.title('RI.L Adjusted Close Price', color = 'black', fontsize = 20)\n",
        "plt.xlabel('Year', color = 'black', fontsize = 15)\n",
        "plt.ylabel('Stock price', color = 'black', fontsize = 15);"
      ]
    },
    {
      "cell_type": "code",
      "execution_count": 17,
      "metadata": {
        "id": "GTjKt62v1NkL"
      },
      "outputs": [],
      "source": [
        "# Create DataFrame for Adjusted Close price\n",
        "\n",
        "RI_adj = RI_df[['Adj Close']]"
      ]
    },
    {
      "cell_type": "code",
      "execution_count": 18,
      "metadata": {
        "colab": {
          "base_uri": "https://localhost:8080/",
          "height": 450
        },
        "id": "wOQIDp-a1U-y",
        "outputId": "0dceac41-6148-4b37-d71c-a19a9c625f41"
      },
      "outputs": [
        {
          "data": {
            "text/html": [
              "<div>\n",
              "<style scoped>\n",
              "    .dataframe tbody tr th:only-of-type {\n",
              "        vertical-align: middle;\n",
              "    }\n",
              "\n",
              "    .dataframe tbody tr th {\n",
              "        vertical-align: top;\n",
              "    }\n",
              "\n",
              "    .dataframe thead th {\n",
              "        text-align: right;\n",
              "    }\n",
              "</style>\n",
              "<table border=\"1\" class=\"dataframe\">\n",
              "  <thead>\n",
              "    <tr style=\"text-align: right;\">\n",
              "      <th></th>\n",
              "      <th>Adj Close</th>\n",
              "    </tr>\n",
              "    <tr>\n",
              "      <th>Date</th>\n",
              "      <th></th>\n",
              "    </tr>\n",
              "  </thead>\n",
              "  <tbody>\n",
              "    <tr>\n",
              "      <th>2021-04-01</th>\n",
              "      <td>2009.317139</td>\n",
              "    </tr>\n",
              "    <tr>\n",
              "      <th>2021-04-05</th>\n",
              "      <td>1980.248413</td>\n",
              "    </tr>\n",
              "    <tr>\n",
              "      <th>2021-04-06</th>\n",
              "      <td>1972.000000</td>\n",
              "    </tr>\n",
              "    <tr>\n",
              "      <th>2021-04-07</th>\n",
              "      <td>1990.434937</td>\n",
              "    </tr>\n",
              "    <tr>\n",
              "      <th>2021-04-08</th>\n",
              "      <td>1992.919434</td>\n",
              "    </tr>\n",
              "    <tr>\n",
              "      <th>...</th>\n",
              "      <td>...</td>\n",
              "    </tr>\n",
              "    <tr>\n",
              "      <th>2023-03-23</th>\n",
              "      <td>2247.800049</td>\n",
              "    </tr>\n",
              "    <tr>\n",
              "      <th>2023-03-24</th>\n",
              "      <td>2203.300049</td>\n",
              "    </tr>\n",
              "    <tr>\n",
              "      <th>2023-03-27</th>\n",
              "      <td>2237.550049</td>\n",
              "    </tr>\n",
              "    <tr>\n",
              "      <th>2023-03-28</th>\n",
              "      <td>2248.000000</td>\n",
              "    </tr>\n",
              "    <tr>\n",
              "      <th>2023-03-29</th>\n",
              "      <td>2234.699951</td>\n",
              "    </tr>\n",
              "  </tbody>\n",
              "</table>\n",
              "<p>496 rows × 1 columns</p>\n",
              "</div>"
            ],
            "text/plain": [
              "              Adj Close\n",
              "Date                   \n",
              "2021-04-01  2009.317139\n",
              "2021-04-05  1980.248413\n",
              "2021-04-06  1972.000000\n",
              "2021-04-07  1990.434937\n",
              "2021-04-08  1992.919434\n",
              "...                 ...\n",
              "2023-03-23  2247.800049\n",
              "2023-03-24  2203.300049\n",
              "2023-03-27  2237.550049\n",
              "2023-03-28  2248.000000\n",
              "2023-03-29  2234.699951\n",
              "\n",
              "[496 rows x 1 columns]"
            ]
          },
          "execution_count": 18,
          "metadata": {},
          "output_type": "execute_result"
        }
      ],
      "source": [
        "RI_adj"
      ]
    },
    {
      "attachments": {},
      "cell_type": "markdown",
      "metadata": {
        "id": "N1zio5Ok1qXE"
      },
      "source": [
        "## 4. Create training data set"
      ]
    },
    {
      "cell_type": "code",
      "execution_count": 19,
      "metadata": {
        "colab": {
          "base_uri": "https://localhost:8080/"
        },
        "id": "xI8eAVojSd-5",
        "outputId": "8a0ce0dc-a560-4a49-b0a2-4f118945db52"
      },
      "outputs": [
        {
          "data": {
            "text/plain": [
              "396"
            ]
          },
          "execution_count": 19,
          "metadata": {},
          "output_type": "execute_result"
        }
      ],
      "source": [
        "# Convert DataFrame to numpy array\n",
        "RI_adj_arr = RI_adj.values\n",
        "\n",
        "# Find number of rows to train model on (80% of data set) \n",
        "training_data_len = int(0.8*len(RI_adj))\n",
        "\n",
        "training_data_len"
      ]
    },
    {
      "cell_type": "code",
      "execution_count": 20,
      "metadata": {
        "id": "zCgW-cwPZBjD"
      },
      "outputs": [],
      "source": [
        "# Create train data set\n",
        "\n",
        "train = RI_adj_arr[0:training_data_len, :]"
      ]
    },
    {
      "attachments": {},
      "cell_type": "markdown",
      "metadata": {
        "id": "20V7wwx73R_r"
      },
      "source": [
        "### Feature scaling\n",
        "\n",
        "We will normalise the training data before model fitting by converting the values of numeric columns in the data set to a common scale. Scikit-Learn’s MinMaxScaler() function scales the data to values between 0 and 1 which helps boost performance."
      ]
    },
    {
      "cell_type": "code",
      "execution_count": 21,
      "metadata": {
        "colab": {
          "base_uri": "https://localhost:8080/"
        },
        "id": "InwRKZSQKH-t",
        "outputId": "d8ec3532-5356-4960-ec28-a0b4630c36cc"
      },
      "outputs": [
        {
          "data": {
            "text/plain": [
              "array([[1.30096555e-01],\n",
              "       [9.85693462e-02],\n",
              "       [8.96233247e-02],\n",
              "       [1.09617393e-01],\n",
              "       [1.12312017e-01],\n",
              "       [8.71981242e-02],\n",
              "       [1.07784923e-02],\n",
              "       [3.30361079e-02],\n",
              "       [4.65092233e-02],\n",
              "       [3.33594150e-02],\n",
              "       [5.92597300e-04],\n",
              "       [0.00000000e+00],\n",
              "       [5.65866872e-03],\n",
              "       [3.44887392e-03],\n",
              "       [3.95569289e-02],\n",
              "       [9.43119397e-02],\n",
              "       [1.03635418e-01],\n",
              "       [1.32468004e-01],\n",
              "       [1.00617355e-01],\n",
              "       [6.24076715e-02],\n",
              "       [1.66526991e-02],\n",
              "       [2.04251449e-02],\n",
              "       [3.21736909e-02],\n",
              "       [3.29822234e-02],\n",
              "       [2.70001152e-02],\n",
              "       [3.44912547e-02],\n",
              "       [1.29341378e-02],\n",
              "       [3.89643316e-02],\n",
              "       [6.38086689e-02],\n",
              "       [9.35572917e-02],\n",
              "       [1.03365863e-01],\n",
              "       [9.08089165e-02],\n",
              "       [1.09294219e-01],\n",
              "       [9.10784715e-02],\n",
              "       [6.68267315e-02],\n",
              "       [7.42639865e-02],\n",
              "       [8.07849399e-02],\n",
              "       [2.08725850e-01],\n",
              "       [2.79325159e-01],\n",
              "       [2.88594620e-01],\n",
              "       [3.23463331e-01],\n",
              "       [3.32517254e-01],\n",
              "       [3.11876174e-01],\n",
              "       [3.51649038e-01],\n",
              "       [3.37852748e-01],\n",
              "       [2.95169591e-01],\n",
              "       [3.03792437e-01],\n",
              "       [3.43963279e-01],\n",
              "       [3.78295263e-01],\n",
              "       [3.83810019e-01],\n",
              "       [3.42287696e-01],\n",
              "       [3.46666773e-01],\n",
              "       [3.57479952e-01],\n",
              "       [3.70023262e-01],\n",
              "       [3.57588251e-01],\n",
              "       [3.35529227e-01],\n",
              "       [2.79462849e-01],\n",
              "       [2.26424067e-01],\n",
              "       [2.06473821e-01],\n",
              "       [2.08420283e-01],\n",
              "       [2.33128254e-01],\n",
              "       [2.19395514e-01],\n",
              "       [2.53024484e-01],\n",
              "       [2.75894291e-01],\n",
              "       [2.48429074e-01],\n",
              "       [2.32479522e-01],\n",
              "       [2.13610673e-01],\n",
              "       [1.90470252e-01],\n",
              "       [2.04419325e-01],\n",
              "       [2.21287694e-01],\n",
              "       [2.06473821e-01],\n",
              "       [2.02527144e-01],\n",
              "       [2.35020435e-01],\n",
              "       [2.20476911e-01],\n",
              "       [2.14908138e-01],\n",
              "       [2.43995451e-01],\n",
              "       [2.27775814e-01],\n",
              "       [1.96579723e-01],\n",
              "       [1.72952885e-01],\n",
              "       [1.53867571e-01],\n",
              "       [1.71060572e-01],\n",
              "       [1.51650892e-01],\n",
              "       [1.91876015e-01],\n",
              "       [2.08366002e-01],\n",
              "       [2.25667301e-01],\n",
              "       [2.58647538e-01],\n",
              "       [2.09771765e-01],\n",
              "       [1.96904090e-01],\n",
              "       [2.08690633e-01],\n",
              "       [2.40319123e-01],\n",
              "       [2.32966204e-01],\n",
              "       [2.70974251e-01],\n",
              "       [3.01089209e-01],\n",
              "       [2.91087077e-01],\n",
              "       [3.00169862e-01],\n",
              "       [2.73785778e-01],\n",
              "       [2.89032581e-01],\n",
              "       [3.12118721e-01],\n",
              "       [3.32555649e-01],\n",
              "       [3.62670342e-01],\n",
              "       [3.59372133e-01],\n",
              "       [4.05706728e-01],\n",
              "       [3.92622720e-01],\n",
              "       [4.02300750e-01],\n",
              "       [4.31820727e-01],\n",
              "       [5.33572967e-01],\n",
              "       [5.73689792e-01],\n",
              "       [5.90233795e-01],\n",
              "       [5.79907562e-01],\n",
              "       [5.73689792e-01],\n",
              "       [5.15244552e-01],\n",
              "       [5.11892326e-01],\n",
              "       [5.22543455e-01],\n",
              "       [5.76501055e-01],\n",
              "       [5.35789514e-01],\n",
              "       [5.39898771e-01],\n",
              "       [5.51090069e-01],\n",
              "       [5.78988216e-01],\n",
              "       [6.43218561e-01],\n",
              "       [6.35432976e-01],\n",
              "       [6.80578140e-01],\n",
              "       [7.06097424e-01],\n",
              "       [6.84254732e-01],\n",
              "       [6.74955350e-01],\n",
              "       [6.79767092e-01],\n",
              "       [7.14855842e-01],\n",
              "       [7.72219949e-01],\n",
              "       [7.18857066e-01],\n",
              "       [7.32427491e-01],\n",
              "       [8.39315839e-01],\n",
              "       [8.19203277e-01],\n",
              "       [8.35585494e-01],\n",
              "       [8.64943156e-01],\n",
              "       [8.70836296e-01],\n",
              "       [8.78621880e-01],\n",
              "       [9.04843914e-01],\n",
              "       [8.70836296e-01],\n",
              "       [7.86601687e-01],\n",
              "       [7.91899846e-01],\n",
              "       [7.64218297e-01],\n",
              "       [8.28286591e-01],\n",
              "       [7.91899846e-01],\n",
              "       [7.60758037e-01],\n",
              "       [6.93337782e-01],\n",
              "       [6.95013895e-01],\n",
              "       [6.55005104e-01],\n",
              "       [6.36406340e-01],\n",
              "       [6.52896591e-01],\n",
              "       [6.56248552e-01],\n",
              "       [6.77604562e-01],\n",
              "       [7.08097638e-01],\n",
              "       [7.13125977e-01],\n",
              "       [7.54810881e-01],\n",
              "       [7.38266613e-01],\n",
              "       [6.73495569e-01],\n",
              "       [6.15212380e-01],\n",
              "       [6.25268794e-01],\n",
              "       [5.06810235e-01],\n",
              "       [5.30707423e-01],\n",
              "       [4.93455878e-01],\n",
              "       [6.46516505e-01],\n",
              "       [5.59632685e-01],\n",
              "       [5.90882793e-01],\n",
              "       [5.51847100e-01],\n",
              "       [6.18456308e-01],\n",
              "       [6.35595556e-01],\n",
              "       [5.54928977e-01],\n",
              "       [5.05566787e-01],\n",
              "       [5.26382098e-01],\n",
              "       [5.65580106e-01],\n",
              "       [6.07048413e-01],\n",
              "       [6.09751641e-01],\n",
              "       [5.56442775e-01],\n",
              "       [5.24543670e-01],\n",
              "       [5.17028699e-01],\n",
              "       [5.50225004e-01],\n",
              "       [4.81615318e-01],\n",
              "       [4.13384279e-01],\n",
              "       [4.50040844e-01],\n",
              "       [5.09351413e-01],\n",
              "       [5.08432066e-01],\n",
              "       [5.16596299e-01],\n",
              "       [5.13838789e-01],\n",
              "       [5.44277848e-01],\n",
              "       [5.48711207e-01],\n",
              "       [5.01782161e-01],\n",
              "       [5.11567960e-01],\n",
              "       [5.50171252e-01],\n",
              "       [6.08832824e-01],\n",
              "       [6.21267835e-01],\n",
              "       [5.63849711e-01],\n",
              "       [5.84935636e-01],\n",
              "       [5.87098166e-01],\n",
              "       [6.06075314e-01],\n",
              "       [6.76955829e-01],\n",
              "       [6.92310666e-01],\n",
              "       [6.96311360e-01],\n",
              "       [7.10638816e-01],\n",
              "       [6.77712860e-01],\n",
              "       [6.77496528e-01],\n",
              "       [6.29756169e-01],\n",
              "       [6.30188834e-01],\n",
              "       [5.22110790e-01],\n",
              "       [5.17082716e-01],\n",
              "       [4.79074404e-01],\n",
              "       [4.76641525e-01],\n",
              "       [5.31518471e-01],\n",
              "       [5.22975855e-01],\n",
              "       [5.28220262e-01],\n",
              "       [4.94915658e-01],\n",
              "       [4.71721485e-01],\n",
              "       [4.56366648e-01],\n",
              "       [4.98484217e-01],\n",
              "       [5.28166245e-01],\n",
              "       [5.25517033e-01],\n",
              "       [5.20488694e-01],\n",
              "       [4.79561086e-01],\n",
              "       [5.65417526e-01],\n",
              "       [5.60011068e-01],\n",
              "       [5.93045323e-01],\n",
              "       [5.72392062e-01],\n",
              "       [5.45899679e-01],\n",
              "       [5.34113401e-01],\n",
              "       [5.17947781e-01],\n",
              "       [3.90027790e-01],\n",
              "       [4.20520866e-01],\n",
              "       [5.02268843e-01],\n",
              "       [5.44440164e-01],\n",
              "       [5.22543455e-01],\n",
              "       [4.65503979e-01],\n",
              "       [3.72510423e-01],\n",
              "       [3.68131081e-01],\n",
              "       [4.96375704e-01],\n",
              "       [5.37627678e-01],\n",
              "       [5.45088896e-01],\n",
              "       [5.66390889e-01],\n",
              "       [5.06485869e-01],\n",
              "       [5.49630553e-01],\n",
              "       [6.34351843e-01],\n",
              "       [6.18888973e-01],\n",
              "       [6.87823026e-01],\n",
              "       [6.96527692e-01],\n",
              "       [7.39185695e-01],\n",
              "       [7.57784459e-01],\n",
              "       [7.86006707e-01],\n",
              "       [7.86655704e-01],\n",
              "       [8.41154002e-01],\n",
              "       [7.99847746e-01],\n",
              "       [8.22663802e-01],\n",
              "       [8.31151871e-01],\n",
              "       [7.90440331e-01],\n",
              "       [7.82871078e-01],\n",
              "       [7.32914173e-01],\n",
              "       [7.79194486e-01],\n",
              "       [7.73301347e-01],\n",
              "       [7.20154531e-01],\n",
              "       [7.09990084e-01],\n",
              "       [7.01556031e-01],\n",
              "       [8.06389883e-01],\n",
              "       [8.90354142e-01],\n",
              "       [9.59180161e-01],\n",
              "       [9.33985508e-01],\n",
              "       [8.64997173e-01],\n",
              "       [9.52205624e-01],\n",
              "       [9.55125186e-01],\n",
              "       [1.00000000e+00],\n",
              "       [9.67992861e-01],\n",
              "       [9.57396014e-01],\n",
              "       [8.63537393e-01],\n",
              "       [8.06497652e-01],\n",
              "       [7.84600943e-01],\n",
              "       [6.73928234e-01],\n",
              "       [6.26728309e-01],\n",
              "       [5.99317110e-01],\n",
              "       [5.45359246e-01],\n",
              "       [5.74771189e-01],\n",
              "       [5.75419922e-01],\n",
              "       [6.85660231e-01],\n",
              "       [6.95608610e-01],\n",
              "       [6.32351364e-01],\n",
              "       [7.88710201e-01],\n",
              "       [7.69732788e-01],\n",
              "       [7.79410818e-01],\n",
              "       [7.75247809e-01],\n",
              "       [7.48323026e-01],\n",
              "       [7.35347052e-01],\n",
              "       [8.32341302e-01],\n",
              "       [7.97576918e-01],\n",
              "       [7.98496000e-01],\n",
              "       [8.96679946e-01],\n",
              "       [9.56368634e-01],\n",
              "       [9.43446941e-01],\n",
              "       [9.49069731e-01],\n",
              "       [8.96409596e-01],\n",
              "       [9.77184210e-01],\n",
              "       [8.85812749e-01],\n",
              "       [8.30286806e-01],\n",
              "       [7.92657142e-01],\n",
              "       [7.58271141e-01],\n",
              "       [7.19019116e-01],\n",
              "       [7.51458655e-01],\n",
              "       [7.00690702e-01],\n",
              "       [7.45079099e-01],\n",
              "       [6.60195494e-01],\n",
              "       [6.16239761e-01],\n",
              "       [6.54194056e-01],\n",
              "       [6.46192139e-01],\n",
              "       [6.84092417e-01],\n",
              "       [7.40807526e-01],\n",
              "       [7.57568127e-01],\n",
              "       [5.55415394e-01],\n",
              "       [5.60822116e-01],\n",
              "       [5.81961794e-01],\n",
              "       [5.58821637e-01],\n",
              "       [5.33140302e-01],\n",
              "       [5.36708596e-01],\n",
              "       [5.71851363e-01],\n",
              "       [5.68121019e-01],\n",
              "       [5.21732407e-01],\n",
              "       [5.42926101e-01],\n",
              "       [5.47954440e-01],\n",
              "       [5.70067481e-01],\n",
              "       [5.86125068e-01],\n",
              "       [6.57383966e-01],\n",
              "       [6.39325901e-01],\n",
              "       [6.57492265e-01],\n",
              "       [5.68066737e-01],\n",
              "       [5.69256433e-01],\n",
              "       [5.66769272e-01],\n",
              "       [6.07751427e-01],\n",
              "       [6.64358503e-01],\n",
              "       [7.35076703e-01],\n",
              "       [7.45673550e-01],\n",
              "       [7.69138338e-01],\n",
              "       [7.31886792e-01],\n",
              "       [6.90904902e-01],\n",
              "       [7.26750419e-01],\n",
              "       [7.43348704e-01],\n",
              "       [7.52648351e-01],\n",
              "       [7.97955301e-01],\n",
              "       [8.17743496e-01],\n",
              "       [8.32719685e-01],\n",
              "       [8.37220830e-01],\n",
              "       [7.85757806e-01],\n",
              "       [7.77894638e-01],\n",
              "       [8.21494494e-01],\n",
              "       [8.13848189e-01],\n",
              "       [8.05497015e-01],\n",
              "       [7.90258685e-01],\n",
              "       [7.68187481e-01],\n",
              "       [8.11895901e-01],\n",
              "       [7.27787067e-01],\n",
              "       [6.95358385e-01],\n",
              "       [7.37982230e-01],\n",
              "       [7.67320033e-01],\n",
              "       [7.50942847e-01],\n",
              "       [7.54901439e-01],\n",
              "       [7.37439943e-01],\n",
              "       [7.68621470e-01],\n",
              "       [7.92156691e-01],\n",
              "       [7.58101147e-01],\n",
              "       [7.30281643e-01],\n",
              "       [6.61411139e-01],\n",
              "       [6.64936007e-01],\n",
              "       [6.65369996e-01],\n",
              "       [6.72853457e-01],\n",
              "       [6.47203367e-01],\n",
              "       [5.96662073e-01],\n",
              "       [5.29255851e-01],\n",
              "       [5.49754210e-01],\n",
              "       [4.80558281e-01],\n",
              "       [4.72803676e-01],\n",
              "       [5.29689575e-01],\n",
              "       [5.20741832e-01],\n",
              "       [5.68137701e-01],\n",
              "       [5.77790576e-01],\n",
              "       [5.88907468e-01],\n",
              "       [5.60111953e-01],\n",
              "       [5.08160658e-01],\n",
              "       [5.26978138e-01],\n",
              "       [5.35166731e-01],\n",
              "       [5.22043269e-01],\n",
              "       [5.63311396e-01],\n",
              "       [6.09405827e-01],\n",
              "       [6.55662839e-01],\n",
              "       [6.62929703e-01],\n",
              "       [6.31477032e-01],\n",
              "       [6.40424774e-01],\n",
              "       [5.98885504e-01],\n",
              "       [6.09297264e-01],\n",
              "       [6.90640378e-01],\n",
              "       [7.16073871e-01],\n",
              "       [6.94653517e-01],\n",
              "       [7.11789588e-01],\n",
              "       [7.22093049e-01],\n",
              "       [7.62873170e-01]])"
            ]
          },
          "execution_count": 21,
          "metadata": {},
          "output_type": "execute_result"
        }
      ],
      "source": [
        "# Normalise the data\n",
        "scaler = MinMaxScaler(feature_range=(0,1))\n",
        "train_scaled = scaler.fit_transform(train)\n",
        "\n",
        "train_scaled"
      ]
    },
    {
      "cell_type": "code",
      "execution_count": 22,
      "metadata": {
        "colab": {
          "base_uri": "https://localhost:8080/"
        },
        "id": "jq4xU6ArpbWt",
        "outputId": "e4d06f34-baa5-48c1-d67a-cf1adda36a97"
      },
      "outputs": [
        {
          "data": {
            "text/plain": [
              "(396, 1)"
            ]
          },
          "execution_count": 22,
          "metadata": {},
          "output_type": "execute_result"
        }
      ],
      "source": [
        "train_scaled.shape"
      ]
    },
    {
      "attachments": {},
      "cell_type": "markdown",
      "metadata": {
        "id": "7C1bvW-fiAzN"
      },
      "source": [
        "## Split training data into X_train, y_train"
      ]
    },
    {
      "cell_type": "code",
      "execution_count": 23,
      "metadata": {
        "colab": {
          "base_uri": "https://localhost:8080/"
        },
        "id": "bGBH9hP_n9Ea",
        "outputId": "a0ef1d5d-5423-4d4a-a1d2-28a7aa97f48d"
      },
      "outputs": [
        {
          "name": "stdout",
          "output_type": "stream",
          "text": [
            "[array([0.13009656, 0.09856935, 0.08962332, 0.10961739, 0.11231202,\n",
            "       0.08719812, 0.01077849, 0.03303611, 0.04650922, 0.03335942,\n",
            "       0.0005926 , 0.        , 0.00565867, 0.00344887, 0.03955693,\n",
            "       0.09431194, 0.10363542, 0.132468  , 0.10061736, 0.06240767,\n",
            "       0.0166527 , 0.02042514, 0.03217369, 0.03298222, 0.02700012,\n",
            "       0.03449125, 0.01293414, 0.03896433, 0.06380867, 0.09355729,\n",
            "       0.10336586, 0.09080892, 0.10929422, 0.09107847, 0.06682673,\n",
            "       0.07426399, 0.08078494, 0.20872585, 0.27932516, 0.28859462,\n",
            "       0.32346333, 0.33251725, 0.31187617, 0.35164904, 0.33785275,\n",
            "       0.29516959, 0.30379244, 0.34396328, 0.37829526, 0.38381002,\n",
            "       0.3422877 , 0.34666677, 0.35747995, 0.37002326, 0.35758825,\n",
            "       0.33552923, 0.27946285, 0.22642407, 0.20647382, 0.20842028])]\n",
            "[array([0.23312825])]\n",
            "\n",
            "[array([0.13009656, 0.09856935, 0.08962332, 0.10961739, 0.11231202,\n",
            "       0.08719812, 0.01077849, 0.03303611, 0.04650922, 0.03335942,\n",
            "       0.0005926 , 0.        , 0.00565867, 0.00344887, 0.03955693,\n",
            "       0.09431194, 0.10363542, 0.132468  , 0.10061736, 0.06240767,\n",
            "       0.0166527 , 0.02042514, 0.03217369, 0.03298222, 0.02700012,\n",
            "       0.03449125, 0.01293414, 0.03896433, 0.06380867, 0.09355729,\n",
            "       0.10336586, 0.09080892, 0.10929422, 0.09107847, 0.06682673,\n",
            "       0.07426399, 0.08078494, 0.20872585, 0.27932516, 0.28859462,\n",
            "       0.32346333, 0.33251725, 0.31187617, 0.35164904, 0.33785275,\n",
            "       0.29516959, 0.30379244, 0.34396328, 0.37829526, 0.38381002,\n",
            "       0.3422877 , 0.34666677, 0.35747995, 0.37002326, 0.35758825,\n",
            "       0.33552923, 0.27946285, 0.22642407, 0.20647382, 0.20842028]), array([0.09856935, 0.08962332, 0.10961739, 0.11231202, 0.08719812,\n",
            "       0.01077849, 0.03303611, 0.04650922, 0.03335942, 0.0005926 ,\n",
            "       0.        , 0.00565867, 0.00344887, 0.03955693, 0.09431194,\n",
            "       0.10363542, 0.132468  , 0.10061736, 0.06240767, 0.0166527 ,\n",
            "       0.02042514, 0.03217369, 0.03298222, 0.02700012, 0.03449125,\n",
            "       0.01293414, 0.03896433, 0.06380867, 0.09355729, 0.10336586,\n",
            "       0.09080892, 0.10929422, 0.09107847, 0.06682673, 0.07426399,\n",
            "       0.08078494, 0.20872585, 0.27932516, 0.28859462, 0.32346333,\n",
            "       0.33251725, 0.31187617, 0.35164904, 0.33785275, 0.29516959,\n",
            "       0.30379244, 0.34396328, 0.37829526, 0.38381002, 0.3422877 ,\n",
            "       0.34666677, 0.35747995, 0.37002326, 0.35758825, 0.33552923,\n",
            "       0.27946285, 0.22642407, 0.20647382, 0.20842028, 0.23312825])]\n",
            "[array([0.23312825]), array([0.21939551])]\n",
            "\n"
          ]
        }
      ],
      "source": [
        "# Creating a data structure with 60 time-steps and 1 output\n",
        "\n",
        "# Split data into X_train and y_train data sets\n",
        "X_train = []\n",
        "y_train = []\n",
        "# Creating a data structure with 60 time-steps and 1 output\n",
        "for i in range(60, len(train_scaled)):\n",
        "    X_train.append(train_scaled[i-60:i, 0])\n",
        "    y_train.append(train_scaled[i:i+1, 0])  \n",
        "    if i <= 61:     # 60 days for first pass, 61 for second\n",
        "      print(X_train)\n",
        "      print(y_train)\n",
        "      print()"
      ]
    },
    {
      "cell_type": "code",
      "execution_count": 24,
      "metadata": {
        "id": "8qR5ozhTNWRe"
      },
      "outputs": [],
      "source": [
        "# Convert X_train and y_train to numpy arrays for training LSTM model\n",
        "X_train, y_train = np.array(X_train), np.array(y_train)"
      ]
    },
    {
      "cell_type": "code",
      "execution_count": 25,
      "metadata": {
        "colab": {
          "base_uri": "https://localhost:8080/"
        },
        "id": "Hg1ntS0FNiUj",
        "outputId": "5e9c9a04-c61c-4989-81a3-0c1bbc89cb2f"
      },
      "outputs": [
        {
          "data": {
            "text/plain": [
              "(336, 60, 1)"
            ]
          },
          "execution_count": 25,
          "metadata": {},
          "output_type": "execute_result"
        }
      ],
      "source": [
        "# Reshape the data as LSTM expects 3-D data (samples, time steps, features)\n",
        "\n",
        "X_train = np.reshape(X_train, (X_train.shape[0], X_train.shape[1], 1))\n",
        "X_train.shape"
      ]
    },
    {
      "attachments": {},
      "cell_type": "markdown",
      "metadata": {
        "id": "eOQRD4UNiGPu"
      },
      "source": [
        "### Create and train model\n",
        "\n",
        "We will create and train a model with four recurrent layers each with 50 neurons, input shape of data with number of time steps (60) and dimensionality (1), and an output layer with time step of 1, and the tanh activation function. Dropout will be used after each hidden layer as a regularisation technique to prevent overfitting. The model will be compiled using the Mean Squared Error loss function and the adam (Adaptive Moment Estimation) optimizer then fitted on the training set for 200 epochs with a batch size of 64."
      ]
    },
    {
      "cell_type": "code",
      "execution_count": 26,
      "metadata": {
        "colab": {
          "base_uri": "https://localhost:8080/"
        },
        "id": "b006LbSw91vK",
        "outputId": "0cab8b0d-5061-41d3-ca5e-35a7766f0970"
      },
      "outputs": [
        {
          "name": "stdout",
          "output_type": "stream",
          "text": [
            "Epoch 1/200\n",
            "6/6 [==============================] - 23s 218ms/step - loss: 0.1499\n",
            "Epoch 2/200\n",
            "6/6 [==============================] - 1s 201ms/step - loss: 0.0366\n",
            "Epoch 3/200\n",
            "6/6 [==============================] - 1s 207ms/step - loss: 0.0353\n",
            "Epoch 4/200\n",
            "6/6 [==============================] - 1s 194ms/step - loss: 0.0324\n",
            "Epoch 5/200\n",
            "6/6 [==============================] - 1s 210ms/step - loss: 0.0230\n",
            "Epoch 6/200\n",
            "6/6 [==============================] - 1s 189ms/step - loss: 0.0233\n",
            "Epoch 7/200\n",
            "6/6 [==============================] - 1s 191ms/step - loss: 0.0229\n",
            "Epoch 8/200\n",
            "6/6 [==============================] - 1s 192ms/step - loss: 0.0229\n",
            "Epoch 9/200\n",
            "6/6 [==============================] - 1s 215ms/step - loss: 0.0220\n",
            "Epoch 10/200\n",
            "6/6 [==============================] - 1s 187ms/step - loss: 0.0212\n",
            "Epoch 11/200\n",
            "6/6 [==============================] - 1s 201ms/step - loss: 0.0184\n",
            "Epoch 12/200\n",
            "6/6 [==============================] - 1s 175ms/step - loss: 0.0194\n",
            "Epoch 13/200\n",
            "6/6 [==============================] - 1s 200ms/step - loss: 0.0205\n",
            "Epoch 14/200\n",
            "6/6 [==============================] - 1s 211ms/step - loss: 0.0204\n",
            "Epoch 15/200\n",
            "6/6 [==============================] - 1s 206ms/step - loss: 0.0195\n",
            "Epoch 16/200\n",
            "6/6 [==============================] - 1s 178ms/step - loss: 0.0173\n",
            "Epoch 17/200\n",
            "6/6 [==============================] - 1s 203ms/step - loss: 0.0190\n",
            "Epoch 18/200\n",
            "6/6 [==============================] - 1s 192ms/step - loss: 0.0181\n",
            "Epoch 19/200\n",
            "6/6 [==============================] - 1s 169ms/step - loss: 0.0172\n",
            "Epoch 20/200\n",
            "6/6 [==============================] - 1s 215ms/step - loss: 0.0191\n",
            "Epoch 21/200\n",
            "6/6 [==============================] - 2s 264ms/step - loss: 0.0191\n",
            "Epoch 22/200\n",
            "6/6 [==============================] - 1s 208ms/step - loss: 0.0186\n",
            "Epoch 23/200\n",
            "6/6 [==============================] - 1s 222ms/step - loss: 0.0174\n",
            "Epoch 24/200\n",
            "6/6 [==============================] - 1s 197ms/step - loss: 0.0172\n",
            "Epoch 25/200\n",
            "6/6 [==============================] - 1s 184ms/step - loss: 0.0174\n",
            "Epoch 26/200\n",
            "6/6 [==============================] - 1s 198ms/step - loss: 0.0158\n",
            "Epoch 27/200\n",
            "6/6 [==============================] - 1s 191ms/step - loss: 0.0146\n",
            "Epoch 28/200\n",
            "6/6 [==============================] - 1s 188ms/step - loss: 0.0161\n",
            "Epoch 29/200\n",
            "6/6 [==============================] - 1s 206ms/step - loss: 0.0155\n",
            "Epoch 30/200\n",
            "6/6 [==============================] - 1s 200ms/step - loss: 0.0165\n",
            "Epoch 31/200\n",
            "6/6 [==============================] - 1s 195ms/step - loss: 0.0137\n",
            "Epoch 32/200\n",
            "6/6 [==============================] - 1s 196ms/step - loss: 0.0152\n",
            "Epoch 33/200\n",
            "6/6 [==============================] - 1s 209ms/step - loss: 0.0151\n",
            "Epoch 34/200\n",
            "6/6 [==============================] - 1s 190ms/step - loss: 0.0163\n",
            "Epoch 35/200\n",
            "6/6 [==============================] - 1s 213ms/step - loss: 0.0188\n",
            "Epoch 36/200\n",
            "6/6 [==============================] - 1s 214ms/step - loss: 0.0151\n",
            "Epoch 37/200\n",
            "6/6 [==============================] - 1s 181ms/step - loss: 0.0133\n",
            "Epoch 38/200\n",
            "6/6 [==============================] - 1s 264ms/step - loss: 0.0138\n",
            "Epoch 39/200\n",
            "6/6 [==============================] - 1s 227ms/step - loss: 0.0138\n",
            "Epoch 40/200\n",
            "6/6 [==============================] - 1s 186ms/step - loss: 0.0141\n",
            "Epoch 41/200\n",
            "6/6 [==============================] - 1s 223ms/step - loss: 0.0140\n",
            "Epoch 42/200\n",
            "6/6 [==============================] - 1s 200ms/step - loss: 0.0143\n",
            "Epoch 43/200\n",
            "6/6 [==============================] - 1s 156ms/step - loss: 0.0134\n",
            "Epoch 44/200\n",
            "6/6 [==============================] - 1s 203ms/step - loss: 0.0127\n",
            "Epoch 45/200\n",
            "6/6 [==============================] - 1s 201ms/step - loss: 0.0149\n",
            "Epoch 46/200\n",
            "6/6 [==============================] - 1s 217ms/step - loss: 0.0147\n",
            "Epoch 47/200\n",
            "6/6 [==============================] - 1s 209ms/step - loss: 0.0114\n",
            "Epoch 48/200\n",
            "6/6 [==============================] - 1s 183ms/step - loss: 0.0117\n",
            "Epoch 49/200\n",
            "6/6 [==============================] - 1s 202ms/step - loss: 0.0132\n",
            "Epoch 50/200\n",
            "6/6 [==============================] - 1s 213ms/step - loss: 0.0123\n",
            "Epoch 51/200\n",
            "6/6 [==============================] - 1s 218ms/step - loss: 0.0123\n",
            "Epoch 52/200\n",
            "6/6 [==============================] - 1s 204ms/step - loss: 0.0122\n",
            "Epoch 53/200\n",
            "6/6 [==============================] - 1s 205ms/step - loss: 0.0125\n",
            "Epoch 54/200\n",
            "6/6 [==============================] - 1s 192ms/step - loss: 0.0129\n",
            "Epoch 55/200\n",
            "6/6 [==============================] - 1s 207ms/step - loss: 0.0109\n",
            "Epoch 56/200\n",
            "6/6 [==============================] - 1s 209ms/step - loss: 0.0124\n",
            "Epoch 57/200\n",
            "6/6 [==============================] - 1s 213ms/step - loss: 0.0124\n",
            "Epoch 58/200\n",
            "6/6 [==============================] - 1s 212ms/step - loss: 0.0109\n",
            "Epoch 59/200\n",
            "6/6 [==============================] - 1s 202ms/step - loss: 0.0110\n",
            "Epoch 60/200\n",
            "6/6 [==============================] - 1s 211ms/step - loss: 0.0098\n",
            "Epoch 61/200\n",
            "6/6 [==============================] - 1s 199ms/step - loss: 0.0111\n",
            "Epoch 62/200\n",
            "6/6 [==============================] - 1s 178ms/step - loss: 0.0107\n",
            "Epoch 63/200\n",
            "6/6 [==============================] - 1s 213ms/step - loss: 0.0110\n",
            "Epoch 64/200\n",
            "6/6 [==============================] - 1s 188ms/step - loss: 0.0100\n",
            "Epoch 65/200\n",
            "6/6 [==============================] - 1s 229ms/step - loss: 0.0117\n",
            "Epoch 66/200\n",
            "6/6 [==============================] - 2s 244ms/step - loss: 0.0104\n",
            "Epoch 67/200\n",
            "6/6 [==============================] - 1s 196ms/step - loss: 0.0100\n",
            "Epoch 68/200\n",
            "6/6 [==============================] - 1s 205ms/step - loss: 0.0102\n",
            "Epoch 69/200\n",
            "6/6 [==============================] - 1s 203ms/step - loss: 0.0129\n",
            "Epoch 70/200\n",
            "6/6 [==============================] - 1s 204ms/step - loss: 0.0100\n",
            "Epoch 71/200\n",
            "6/6 [==============================] - 1s 207ms/step - loss: 0.0103\n",
            "Epoch 72/200\n",
            "6/6 [==============================] - 1s 209ms/step - loss: 0.0090\n",
            "Epoch 73/200\n",
            "6/6 [==============================] - 1s 197ms/step - loss: 0.0102\n",
            "Epoch 74/200\n",
            "6/6 [==============================] - 1s 191ms/step - loss: 0.0090\n",
            "Epoch 75/200\n",
            "6/6 [==============================] - 1s 158ms/step - loss: 0.0098\n",
            "Epoch 76/200\n",
            "6/6 [==============================] - 1s 207ms/step - loss: 0.0094\n",
            "Epoch 77/200\n",
            "6/6 [==============================] - 2s 245ms/step - loss: 0.0098\n",
            "Epoch 78/200\n",
            "6/6 [==============================] - 1s 197ms/step - loss: 0.0087\n",
            "Epoch 79/200\n",
            "6/6 [==============================] - 1s 194ms/step - loss: 0.0084\n",
            "Epoch 80/200\n",
            "6/6 [==============================] - 1s 195ms/step - loss: 0.0092\n",
            "Epoch 81/200\n",
            "6/6 [==============================] - 1s 181ms/step - loss: 0.0101\n",
            "Epoch 82/200\n",
            "6/6 [==============================] - 1s 165ms/step - loss: 0.0096\n",
            "Epoch 83/200\n",
            "6/6 [==============================] - 1s 187ms/step - loss: 0.0099\n",
            "Epoch 84/200\n",
            "6/6 [==============================] - 1s 213ms/step - loss: 0.0092\n",
            "Epoch 85/200\n",
            "6/6 [==============================] - 1s 211ms/step - loss: 0.0083\n",
            "Epoch 86/200\n",
            "6/6 [==============================] - 1s 186ms/step - loss: 0.0083\n",
            "Epoch 87/200\n",
            "6/6 [==============================] - 1s 192ms/step - loss: 0.0102\n",
            "Epoch 88/200\n",
            "6/6 [==============================] - 1s 219ms/step - loss: 0.0110\n",
            "Epoch 89/200\n",
            "6/6 [==============================] - 1s 225ms/step - loss: 0.0088\n",
            "Epoch 90/200\n",
            "6/6 [==============================] - 1s 187ms/step - loss: 0.0086\n",
            "Epoch 91/200\n",
            "6/6 [==============================] - 1s 184ms/step - loss: 0.0095\n",
            "Epoch 92/200\n",
            "6/6 [==============================] - 1s 174ms/step - loss: 0.0081\n",
            "Epoch 93/200\n",
            "6/6 [==============================] - 1s 162ms/step - loss: 0.0081\n",
            "Epoch 94/200\n",
            "6/6 [==============================] - 1s 170ms/step - loss: 0.0087\n",
            "Epoch 95/200\n",
            "6/6 [==============================] - 1s 176ms/step - loss: 0.0081\n",
            "Epoch 96/200\n",
            "6/6 [==============================] - 1s 165ms/step - loss: 0.0090\n",
            "Epoch 97/200\n",
            "6/6 [==============================] - 1s 199ms/step - loss: 0.0088\n",
            "Epoch 98/200\n",
            "6/6 [==============================] - 1s 215ms/step - loss: 0.0090\n",
            "Epoch 99/200\n",
            "6/6 [==============================] - 1s 196ms/step - loss: 0.0077\n",
            "Epoch 100/200\n",
            "6/6 [==============================] - 1s 182ms/step - loss: 0.0083\n",
            "Epoch 101/200\n",
            "6/6 [==============================] - 1s 120ms/step - loss: 0.0074\n",
            "Epoch 102/200\n",
            "6/6 [==============================] - 1s 172ms/step - loss: 0.0081\n",
            "Epoch 103/200\n",
            "6/6 [==============================] - 1s 218ms/step - loss: 0.0082\n",
            "Epoch 104/200\n",
            "6/6 [==============================] - 2s 281ms/step - loss: 0.0074\n",
            "Epoch 105/200\n",
            "6/6 [==============================] - 1s 188ms/step - loss: 0.0074\n",
            "Epoch 106/200\n",
            "6/6 [==============================] - 1s 202ms/step - loss: 0.0076\n",
            "Epoch 107/200\n",
            "6/6 [==============================] - 1s 204ms/step - loss: 0.0079\n",
            "Epoch 108/200\n",
            "6/6 [==============================] - 1s 188ms/step - loss: 0.0072\n",
            "Epoch 109/200\n",
            "6/6 [==============================] - 1s 206ms/step - loss: 0.0083\n",
            "Epoch 110/200\n",
            "6/6 [==============================] - 1s 209ms/step - loss: 0.0081\n",
            "Epoch 111/200\n",
            "6/6 [==============================] - 1s 180ms/step - loss: 0.0087\n",
            "Epoch 112/200\n",
            "6/6 [==============================] - 1s 218ms/step - loss: 0.0079\n",
            "Epoch 113/200\n",
            "6/6 [==============================] - 1s 223ms/step - loss: 0.0085\n",
            "Epoch 114/200\n",
            "6/6 [==============================] - 1s 234ms/step - loss: 0.0071\n",
            "Epoch 115/200\n",
            "6/6 [==============================] - 1s 207ms/step - loss: 0.0074\n",
            "Epoch 116/200\n",
            "6/6 [==============================] - 1s 167ms/step - loss: 0.0067\n",
            "Epoch 117/200\n",
            "6/6 [==============================] - 1s 184ms/step - loss: 0.0068\n",
            "Epoch 118/200\n",
            "6/6 [==============================] - 1s 138ms/step - loss: 0.0079\n",
            "Epoch 119/200\n",
            "6/6 [==============================] - 1s 224ms/step - loss: 0.0068\n",
            "Epoch 120/200\n",
            "6/6 [==============================] - 2s 260ms/step - loss: 0.0082\n",
            "Epoch 121/200\n",
            "6/6 [==============================] - 1s 190ms/step - loss: 0.0083\n",
            "Epoch 122/200\n",
            "6/6 [==============================] - 1s 182ms/step - loss: 0.0076\n",
            "Epoch 123/200\n",
            "6/6 [==============================] - 1s 203ms/step - loss: 0.0068\n",
            "Epoch 124/200\n",
            "6/6 [==============================] - 1s 222ms/step - loss: 0.0078\n",
            "Epoch 125/200\n",
            "6/6 [==============================] - 1s 217ms/step - loss: 0.0068\n",
            "Epoch 126/200\n",
            "6/6 [==============================] - 1s 214ms/step - loss: 0.0068\n",
            "Epoch 127/200\n",
            "6/6 [==============================] - 1s 202ms/step - loss: 0.0080\n",
            "Epoch 128/200\n",
            "6/6 [==============================] - 1s 192ms/step - loss: 0.0077\n",
            "Epoch 129/200\n",
            "6/6 [==============================] - 1s 211ms/step - loss: 0.0073\n",
            "Epoch 130/200\n",
            "6/6 [==============================] - 1s 189ms/step - loss: 0.0087\n",
            "Epoch 131/200\n",
            "6/6 [==============================] - 1s 192ms/step - loss: 0.0085\n",
            "Epoch 132/200\n",
            "6/6 [==============================] - 1s 195ms/step - loss: 0.0063\n",
            "Epoch 133/200\n",
            "6/6 [==============================] - 1s 150ms/step - loss: 0.0071\n",
            "Epoch 134/200\n",
            "6/6 [==============================] - 1s 214ms/step - loss: 0.0079\n",
            "Epoch 135/200\n",
            "6/6 [==============================] - 1s 205ms/step - loss: 0.0072\n",
            "Epoch 136/200\n",
            "6/6 [==============================] - 1s 218ms/step - loss: 0.0084\n",
            "Epoch 137/200\n",
            "6/6 [==============================] - 1s 202ms/step - loss: 0.0088\n",
            "Epoch 138/200\n",
            "6/6 [==============================] - 1s 191ms/step - loss: 0.0093\n",
            "Epoch 139/200\n",
            "6/6 [==============================] - 1s 203ms/step - loss: 0.0097\n",
            "Epoch 140/200\n",
            "6/6 [==============================] - 1s 215ms/step - loss: 0.0072\n",
            "Epoch 141/200\n",
            "6/6 [==============================] - 1s 184ms/step - loss: 0.0070\n",
            "Epoch 142/200\n",
            "6/6 [==============================] - 1s 188ms/step - loss: 0.0069\n",
            "Epoch 143/200\n",
            "6/6 [==============================] - 2s 290ms/step - loss: 0.0063\n",
            "Epoch 144/200\n",
            "6/6 [==============================] - 1s 238ms/step - loss: 0.0068\n",
            "Epoch 145/200\n",
            "6/6 [==============================] - 1s 203ms/step - loss: 0.0065\n",
            "Epoch 146/200\n",
            "6/6 [==============================] - 1s 205ms/step - loss: 0.0066\n",
            "Epoch 147/200\n",
            "6/6 [==============================] - 1s 198ms/step - loss: 0.0081\n",
            "Epoch 148/200\n",
            "6/6 [==============================] - 1s 193ms/step - loss: 0.0075\n",
            "Epoch 149/200\n",
            "6/6 [==============================] - 1s 172ms/step - loss: 0.0066\n",
            "Epoch 150/200\n",
            "6/6 [==============================] - 1s 205ms/step - loss: 0.0073\n",
            "Epoch 151/200\n",
            "6/6 [==============================] - 1s 196ms/step - loss: 0.0068\n",
            "Epoch 152/200\n",
            "6/6 [==============================] - 1s 218ms/step - loss: 0.0070\n",
            "Epoch 153/200\n",
            "6/6 [==============================] - 1s 209ms/step - loss: 0.0066\n",
            "Epoch 154/200\n",
            "6/6 [==============================] - 1s 212ms/step - loss: 0.0064\n",
            "Epoch 155/200\n",
            "6/6 [==============================] - 1s 224ms/step - loss: 0.0072\n",
            "Epoch 156/200\n",
            "6/6 [==============================] - 1s 120ms/step - loss: 0.0066\n",
            "Epoch 157/200\n",
            "6/6 [==============================] - 1s 251ms/step - loss: 0.0062\n",
            "Epoch 158/200\n",
            "6/6 [==============================] - 1s 218ms/step - loss: 0.0068\n",
            "Epoch 159/200\n",
            "6/6 [==============================] - 1s 220ms/step - loss: 0.0064\n",
            "Epoch 160/200\n",
            "6/6 [==============================] - 1s 207ms/step - loss: 0.0069\n",
            "Epoch 161/200\n",
            "6/6 [==============================] - 1s 187ms/step - loss: 0.0072\n",
            "Epoch 162/200\n",
            "6/6 [==============================] - 1s 211ms/step - loss: 0.0069\n",
            "Epoch 163/200\n",
            "6/6 [==============================] - 1s 222ms/step - loss: 0.0068\n",
            "Epoch 164/200\n",
            "6/6 [==============================] - 1s 218ms/step - loss: 0.0062\n",
            "Epoch 165/200\n",
            "6/6 [==============================] - 1s 216ms/step - loss: 0.0061\n",
            "Epoch 166/200\n",
            "6/6 [==============================] - 1s 218ms/step - loss: 0.0062\n",
            "Epoch 167/200\n",
            "6/6 [==============================] - 1s 123ms/step - loss: 0.0065\n",
            "Epoch 168/200\n",
            "6/6 [==============================] - 1s 208ms/step - loss: 0.0066\n",
            "Epoch 169/200\n",
            "6/6 [==============================] - 1s 209ms/step - loss: 0.0060\n",
            "Epoch 170/200\n",
            "6/6 [==============================] - 1s 221ms/step - loss: 0.0066\n",
            "Epoch 171/200\n",
            "6/6 [==============================] - 1s 204ms/step - loss: 0.0068\n",
            "Epoch 172/200\n",
            "6/6 [==============================] - 1s 173ms/step - loss: 0.0064\n",
            "Epoch 173/200\n",
            "6/6 [==============================] - 1s 186ms/step - loss: 0.0057\n",
            "Epoch 174/200\n",
            "6/6 [==============================] - 1s 186ms/step - loss: 0.0066\n",
            "Epoch 175/200\n",
            "6/6 [==============================] - 1s 202ms/step - loss: 0.0064\n",
            "Epoch 176/200\n",
            "6/6 [==============================] - 1s 207ms/step - loss: 0.0062\n",
            "Epoch 177/200\n",
            "6/6 [==============================] - 1s 199ms/step - loss: 0.0070\n",
            "Epoch 178/200\n",
            "6/6 [==============================] - 1s 210ms/step - loss: 0.0060\n",
            "Epoch 179/200\n",
            "6/6 [==============================] - 1s 181ms/step - loss: 0.0064\n",
            "Epoch 180/200\n",
            "6/6 [==============================] - 1s 190ms/step - loss: 0.0062\n",
            "Epoch 181/200\n",
            "6/6 [==============================] - 1s 156ms/step - loss: 0.0068\n",
            "Epoch 182/200\n",
            "6/6 [==============================] - 1s 196ms/step - loss: 0.0060\n",
            "Epoch 183/200\n",
            "6/6 [==============================] - 1s 219ms/step - loss: 0.0060\n",
            "Epoch 184/200\n",
            "6/6 [==============================] - 1s 211ms/step - loss: 0.0062\n",
            "Epoch 185/200\n",
            "6/6 [==============================] - 1s 203ms/step - loss: 0.0056\n",
            "Epoch 186/200\n",
            "6/6 [==============================] - 1s 192ms/step - loss: 0.0064\n",
            "Epoch 187/200\n",
            "6/6 [==============================] - 1s 211ms/step - loss: 0.0058\n",
            "Epoch 188/200\n",
            "6/6 [==============================] - 1s 230ms/step - loss: 0.0058\n",
            "Epoch 189/200\n",
            "6/6 [==============================] - 1s 229ms/step - loss: 0.0058\n",
            "Epoch 190/200\n",
            "6/6 [==============================] - 1s 213ms/step - loss: 0.0056\n",
            "Epoch 191/200\n",
            "6/6 [==============================] - 1s 180ms/step - loss: 0.0073\n",
            "Epoch 192/200\n",
            "6/6 [==============================] - 1s 178ms/step - loss: 0.0069\n",
            "Epoch 193/200\n",
            "6/6 [==============================] - 1s 206ms/step - loss: 0.0077\n",
            "Epoch 194/200\n",
            "6/6 [==============================] - 1s 209ms/step - loss: 0.0064\n",
            "Epoch 195/200\n",
            "6/6 [==============================] - 1s 207ms/step - loss: 0.0059\n",
            "Epoch 196/200\n",
            "6/6 [==============================] - 1s 204ms/step - loss: 0.0058\n",
            "Epoch 197/200\n",
            "6/6 [==============================] - 1s 212ms/step - loss: 0.0068\n",
            "Epoch 198/200\n",
            "6/6 [==============================] - 1s 209ms/step - loss: 0.0062\n",
            "Epoch 199/200\n",
            "6/6 [==============================] - 1s 214ms/step - loss: 0.0061\n",
            "Epoch 200/200\n",
            "6/6 [==============================] - 1s 208ms/step - loss: 0.0058\n"
          ]
        },
        {
          "data": {
            "text/plain": [
              "<keras.callbacks.History at 0x1664dd33b80>"
            ]
          },
          "execution_count": 26,
          "metadata": {},
          "output_type": "execute_result"
        }
      ],
      "source": [
        "# Build model - LSTM with 50 neurons and 4 hidden layers  \n",
        "\n",
        "model = Sequential()\n",
        "#Adding the first LSTM layer and some Dropout regularisation\n",
        "model.add(LSTM(units = 50, return_sequences = True, input_shape = (X_train.shape[1], 1), activation='tanh'))\n",
        "model.add(Dropout(0.2))\n",
        "# Adding a second LSTM layer and some Dropout regularisation\n",
        "model.add(LSTM(units = 50, return_sequences = True, activation='tanh'))\n",
        "model.add(Dropout(0.2))\n",
        "# Adding a third LSTM layer and some Dropout regularisation\n",
        "model.add(LSTM(units = 50, return_sequences = True, activation='tanh'))\n",
        "model.add(Dropout(0.2))\n",
        "# Adding a fourth LSTM layer and some Dropout regularisation\n",
        "model.add(LSTM(units = 50, activation='tanh'))\n",
        "model.add(Dropout(0.2))\n",
        "# Adding the output layer\n",
        "model.add(Dense(units = 1))\n",
        "# Compiling the RNN\n",
        "model.compile(optimizer = 'adam', loss = 'mean_squared_error')\n",
        "# Fitting the RNN to the Training set\n",
        "model.fit(X_train, y_train, epochs = 200, batch_size = 64)"
      ]
    },
    {
      "attachments": {},
      "cell_type": "markdown",
      "metadata": {
        "id": "VBvC_vU-IXAE"
      },
      "source": [
        "### Create test set"
      ]
    },
    {
      "cell_type": "code",
      "execution_count": 27,
      "metadata": {
        "id": "yRa3UBDJRvhw"
      },
      "outputs": [],
      "source": [
        "test = RI_adj_arr[training_data_len: , :]"
      ]
    },
    {
      "cell_type": "code",
      "execution_count": 28,
      "metadata": {
        "colab": {
          "base_uri": "https://localhost:8080/"
        },
        "id": "Oau4UaBaIZFo",
        "outputId": "075d30af-fce1-4885-c098-ee8a925e595e"
      },
      "outputs": [
        {
          "data": {
            "text/plain": [
              "(100, 1)"
            ]
          },
          "execution_count": 28,
          "metadata": {},
          "output_type": "execute_result"
        }
      ],
      "source": [
        "test.shape"
      ]
    },
    {
      "cell_type": "code",
      "execution_count": 29,
      "metadata": {
        "id": "_VtmWBHeJbiy"
      },
      "outputs": [],
      "source": [
        "# Predicting 253 values, using past 60 from the train data\n",
        "inputs = RI_adj_arr[len(RI_adj_arr) - len(test) - 60:]\n",
        "inputs = inputs.reshape(-1,1)\n",
        "inputs  = scaler.transform(inputs)"
      ]
    },
    {
      "cell_type": "code",
      "execution_count": 30,
      "metadata": {
        "id": "4DhTFCF0JnAR"
      },
      "outputs": [],
      "source": [
        "# Create data sets X_test and y_test\n",
        "X_test = []\n",
        "y_test = RI_adj_arr[training_data_len:, :]\n",
        "for i in range(60,inputs.shape[0]):\n",
        "    X_test.append(inputs[i-60:i,0])"
      ]
    },
    {
      "cell_type": "code",
      "execution_count": 31,
      "metadata": {
        "id": "7eu95NzSJyp4"
      },
      "outputs": [],
      "source": [
        "# Convert data to numpy array\n",
        "X_test = np.array(X_test)"
      ]
    },
    {
      "cell_type": "code",
      "execution_count": 32,
      "metadata": {
        "id": "ZAsaA4HlJ0qd"
      },
      "outputs": [],
      "source": [
        "# Reshape data to be 3-D\n",
        "X_test = np.reshape(X_test, (X_test.shape[0], X_test.shape[1], 1))"
      ]
    },
    {
      "cell_type": "code",
      "execution_count": 33,
      "metadata": {
        "colab": {
          "base_uri": "https://localhost:8080/"
        },
        "id": "MvvdtFwmJ3U8",
        "outputId": "84732df7-874a-4815-9104-c58a2b46b6e0"
      },
      "outputs": [
        {
          "name": "stdout",
          "output_type": "stream",
          "text": [
            "(100, 60, 1)\n"
          ]
        }
      ],
      "source": [
        "print(X_test.shape)"
      ]
    },
    {
      "attachments": {},
      "cell_type": "markdown",
      "metadata": {
        "id": "kTMfgcN-OBbP"
      },
      "source": [
        "### Make Predictions using the test set"
      ]
    },
    {
      "cell_type": "code",
      "execution_count": 34,
      "metadata": {
        "id": "o3viU3AtJ52z"
      },
      "outputs": [
        {
          "name": "stdout",
          "output_type": "stream",
          "text": [
            "4/4 [==============================] - 3s 47ms/step\n"
          ]
        }
      ],
      "source": [
        "# We want predictions to contain same values as y_test data set\n",
        "predictions = model.predict(X_test)\n",
        "predictions = scaler.inverse_transform(predictions)"
      ]
    },
    {
      "cell_type": "code",
      "execution_count": 35,
      "metadata": {
        "colab": {
          "base_uri": "https://localhost:8080/"
        },
        "id": "mLRcbQTgJ9g7",
        "outputId": "8b2f1f08-b9db-4aa0-b5b3-f99603658227"
      },
      "outputs": [
        {
          "data": {
            "text/plain": [
              "(100, 1)"
            ]
          },
          "execution_count": 35,
          "metadata": {},
          "output_type": "execute_result"
        }
      ],
      "source": [
        "predictions.shape"
      ]
    },
    {
      "attachments": {},
      "cell_type": "markdown",
      "metadata": {
        "id": "lJc5utZCOq48"
      },
      "source": [
        "### Calculate the RMSE using the actual values\n",
        "\n",
        "RMSE is the standard deviation of the residuals and is a good measure of how accurately the model predicts the reponse. Lower values of RMSE indicate a better fit."
      ]
    },
    {
      "cell_type": "code",
      "execution_count": 36,
      "metadata": {
        "colab": {
          "base_uri": "https://localhost:8080/"
        },
        "id": "oKgR_WslgLx1",
        "outputId": "5a0635fa-b934-4d4a-a13f-59ce5e2a0bed"
      },
      "outputs": [
        {
          "data": {
            "text/plain": [
              "1.82414794921875"
            ]
          },
          "execution_count": 36,
          "metadata": {},
          "output_type": "execute_result"
        }
      ],
      "source": [
        "rmse = np.sqrt(np.mean(predictions - y_test)**2)  \n",
        "rmse"
      ]
    },
    {
      "cell_type": "code",
      "execution_count": 37,
      "metadata": {
        "colab": {
          "base_uri": "https://localhost:8080/",
          "height": 614
        },
        "id": "YJJqs8AngRn8",
        "outputId": "df3a958a-af26-4e04-e8c6-825af255ac55"
      },
      "outputs": [
        {
          "data": {
            "image/png": "[encoded data removed]",
            "text/plain": [
              "<Figure size 2000x1000 with 1 Axes>"
            ]
          },
          "metadata": {},
          "output_type": "display_data"
        }
      ],
      "source": [
        "# Plot predicted vs actual values  \n",
        "train = RI_adj[:training_data_len]\n",
        "test = RI_adj[training_data_len:]\n",
        "test['Predictions'] = predictions\n",
        "\n",
        "plt.figure(figsize=(20,10))\n",
        "sns.set_style(\"whitegrid\")\n",
        "plt.plot(train['Adj Close'], label='Training')\n",
        "plt.plot(test['Adj Close'], label='Actual')\n",
        "plt.plot(test['Predictions'], label='Predicted')\n",
        "plt.title(\"RI Close Price - LSTM\", color = 'black', fontsize = 20)\n",
        "plt.xlabel('Year', color = 'black', fontsize = 15)\n",
        "plt.ylabel('Stock Price', color = 'black', fontsize = 15)\n",
        "plt.legend();"
      ]
    },
    {
      "attachments": {},
      "cell_type": "markdown",
      "metadata": {
        "id": "_E01zyR8094G"
      },
      "source": [
        "### DataFrame of actual vs predicted prices plotted above"
      ]
    },
    {
      "cell_type": "code",
      "execution_count": 38,
      "metadata": {
        "colab": {
          "base_uri": "https://localhost:8080/",
          "height": 450
        },
        "id": "G3jVmbApP0ZD",
        "outputId": "2acceaf6-0788-4921-d7fb-103a09088a3b"
      },
      "outputs": [
        {
          "data": {
            "text/html": [
              "<div>\n",
              "<style scoped>\n",
              "    .dataframe tbody tr th:only-of-type {\n",
              "        vertical-align: middle;\n",
              "    }\n",
              "\n",
              "    .dataframe tbody tr th {\n",
              "        vertical-align: top;\n",
              "    }\n",
              "\n",
              "    .dataframe thead th {\n",
              "        text-align: right;\n",
              "    }\n",
              "</style>\n",
              "<table border=\"1\" class=\"dataframe\">\n",
              "  <thead>\n",
              "    <tr style=\"text-align: right;\">\n",
              "      <th></th>\n",
              "      <th>Adj Close</th>\n",
              "      <th>Predictions</th>\n",
              "    </tr>\n",
              "    <tr>\n",
              "      <th>Date</th>\n",
              "      <th></th>\n",
              "      <th></th>\n",
              "    </tr>\n",
              "  </thead>\n",
              "  <tbody>\n",
              "    <tr>\n",
              "      <th>2022-11-07</th>\n",
              "      <td>2606.600098</td>\n",
              "      <td>2564.818359</td>\n",
              "    </tr>\n",
              "    <tr>\n",
              "      <th>2022-11-09</th>\n",
              "      <td>2604.000000</td>\n",
              "      <td>2582.248779</td>\n",
              "    </tr>\n",
              "    <tr>\n",
              "      <th>2022-11-10</th>\n",
              "      <td>2572.500000</td>\n",
              "      <td>2595.298828</td>\n",
              "    </tr>\n",
              "    <tr>\n",
              "      <th>2022-11-11</th>\n",
              "      <td>2631.800049</td>\n",
              "      <td>2593.507324</td>\n",
              "    </tr>\n",
              "    <tr>\n",
              "      <th>2022-11-14</th>\n",
              "      <td>2619.050049</td>\n",
              "      <td>2594.328369</td>\n",
              "    </tr>\n",
              "    <tr>\n",
              "      <th>...</th>\n",
              "      <td>...</td>\n",
              "      <td>...</td>\n",
              "    </tr>\n",
              "    <tr>\n",
              "      <th>2023-03-23</th>\n",
              "      <td>2247.800049</td>\n",
              "      <td>2230.724854</td>\n",
              "    </tr>\n",
              "    <tr>\n",
              "      <th>2023-03-24</th>\n",
              "      <td>2203.300049</td>\n",
              "      <td>2236.918701</td>\n",
              "    </tr>\n",
              "    <tr>\n",
              "      <th>2023-03-27</th>\n",
              "      <td>2237.550049</td>\n",
              "      <td>2241.602295</td>\n",
              "    </tr>\n",
              "    <tr>\n",
              "      <th>2023-03-28</th>\n",
              "      <td>2248.000000</td>\n",
              "      <td>2243.791504</td>\n",
              "    </tr>\n",
              "    <tr>\n",
              "      <th>2023-03-29</th>\n",
              "      <td>2234.699951</td>\n",
              "      <td>2245.203125</td>\n",
              "    </tr>\n",
              "  </tbody>\n",
              "</table>\n",
              "<p>100 rows × 2 columns</p>\n",
              "</div>"
            ],
            "text/plain": [
              "              Adj Close  Predictions\n",
              "Date                                \n",
              "2022-11-07  2606.600098  2564.818359\n",
              "2022-11-09  2604.000000  2582.248779\n",
              "2022-11-10  2572.500000  2595.298828\n",
              "2022-11-11  2631.800049  2593.507324\n",
              "2022-11-14  2619.050049  2594.328369\n",
              "...                 ...          ...\n",
              "2023-03-23  2247.800049  2230.724854\n",
              "2023-03-24  2203.300049  2236.918701\n",
              "2023-03-27  2237.550049  2241.602295\n",
              "2023-03-28  2248.000000  2243.791504\n",
              "2023-03-29  2234.699951  2245.203125\n",
              "\n",
              "[100 rows x 2 columns]"
            ]
          },
          "execution_count": 38,
          "metadata": {},
          "output_type": "execute_result"
        }
      ],
      "source": [
        "# Show the actual and predicted prices  \n",
        "\n",
        "test"
      ]
    },
    {
      "attachments": {},
      "cell_type": "markdown",
      "metadata": {
        "id": "6cXvKTUw1Twj"
      },
      "source": [
        "### Predict Adjusted Close price for 11 July 2019"
      ]
    },
    {
      "cell_type": "code",
      "execution_count": 39,
      "metadata": {
        "colab": {
          "base_uri": "https://localhost:8080/"
        },
        "id": "7IP1b7iIP5sj",
        "outputId": "202b0d23-96cf-438d-818c-d1d17874c6c9"
      },
      "outputs": [
        {
          "name": "stdout",
          "output_type": "stream",
          "text": [
            "[*********************100%***********************]  1 of 1 completed\n",
            "\n",
            "1 Failed download:\n",
            "- RI.L: No timezone found, symbol may be delisted\n"
          ]
        },
        {
          "ename": "ValueError",
          "evalue": "Found array with 0 sample(s) (shape=(0, 1)) while a minimum of 1 is required by MinMaxScaler.",
          "output_type": "error",
          "traceback": [
            "\u001b[1;31m---------------------------------------------------------------------------\u001b[0m",
            "\u001b[1;31mValueError\u001b[0m                                Traceback (most recent call last)",
            "Cell \u001b[1;32mIn[39], line 9\u001b[0m\n\u001b[0;32m      7\u001b[0m last_60_days \u001b[39m=\u001b[39m new_df[\u001b[39m-\u001b[39m\u001b[39m60\u001b[39m:]\u001b[39m.\u001b[39mvalues\n\u001b[0;32m      8\u001b[0m \u001b[39m# Scale data to be values between 0 and 1\u001b[39;00m\n\u001b[1;32m----> 9\u001b[0m last_60_days_scaled \u001b[39m=\u001b[39m scaler\u001b[39m.\u001b[39;49mtransform(last_60_days)\n\u001b[0;32m     10\u001b[0m \u001b[39m# Create empty list\u001b[39;00m\n\u001b[0;32m     11\u001b[0m X_test \u001b[39m=\u001b[39m []\n",
            "File \u001b[1;32mg:\\Research Project\\Stock-and-Index-Price-prediction-with-Sentiment-Analysis\\venv\\lib\\site-packages\\sklearn\\utils\\_set_output.py:140\u001b[0m, in \u001b[0;36m_wrap_method_output.<locals>.wrapped\u001b[1;34m(self, X, *args, **kwargs)\u001b[0m\n\u001b[0;32m    138\u001b[0m \u001b[39m@wraps\u001b[39m(f)\n\u001b[0;32m    139\u001b[0m \u001b[39mdef\u001b[39;00m \u001b[39mwrapped\u001b[39m(\u001b[39mself\u001b[39m, X, \u001b[39m*\u001b[39margs, \u001b[39m*\u001b[39m\u001b[39m*\u001b[39mkwargs):\n\u001b[1;32m--> 140\u001b[0m     data_to_wrap \u001b[39m=\u001b[39m f(\u001b[39mself\u001b[39m, X, \u001b[39m*\u001b[39margs, \u001b[39m*\u001b[39m\u001b[39m*\u001b[39mkwargs)\n\u001b[0;32m    141\u001b[0m     \u001b[39mif\u001b[39;00m \u001b[39misinstance\u001b[39m(data_to_wrap, \u001b[39mtuple\u001b[39m):\n\u001b[0;32m    142\u001b[0m         \u001b[39m# only wrap the first output for cross decomposition\u001b[39;00m\n\u001b[0;32m    143\u001b[0m         \u001b[39mreturn\u001b[39;00m (\n\u001b[0;32m    144\u001b[0m             _wrap_data_with_container(method, data_to_wrap[\u001b[39m0\u001b[39m], X, \u001b[39mself\u001b[39m),\n\u001b[0;32m    145\u001b[0m             \u001b[39m*\u001b[39mdata_to_wrap[\u001b[39m1\u001b[39m:],\n\u001b[0;32m    146\u001b[0m         )\n",
            "File \u001b[1;32mg:\\Research Project\\Stock-and-Index-Price-prediction-with-Sentiment-Analysis\\venv\\lib\\site-packages\\sklearn\\preprocessing\\_data.py:508\u001b[0m, in \u001b[0;36mMinMaxScaler.transform\u001b[1;34m(self, X)\u001b[0m\n\u001b[0;32m    494\u001b[0m \u001b[39m\u001b[39m\u001b[39m\"\"\"Scale features of X according to feature_range.\u001b[39;00m\n\u001b[0;32m    495\u001b[0m \n\u001b[0;32m    496\u001b[0m \u001b[39mParameters\u001b[39;00m\n\u001b[1;32m   (...)\u001b[0m\n\u001b[0;32m    504\u001b[0m \u001b[39m    Transformed data.\u001b[39;00m\n\u001b[0;32m    505\u001b[0m \u001b[39m\"\"\"\u001b[39;00m\n\u001b[0;32m    506\u001b[0m check_is_fitted(\u001b[39mself\u001b[39m)\n\u001b[1;32m--> 508\u001b[0m X \u001b[39m=\u001b[39m \u001b[39mself\u001b[39;49m\u001b[39m.\u001b[39;49m_validate_data(\n\u001b[0;32m    509\u001b[0m     X,\n\u001b[0;32m    510\u001b[0m     copy\u001b[39m=\u001b[39;49m\u001b[39mself\u001b[39;49m\u001b[39m.\u001b[39;49mcopy,\n\u001b[0;32m    511\u001b[0m     dtype\u001b[39m=\u001b[39;49mFLOAT_DTYPES,\n\u001b[0;32m    512\u001b[0m     force_all_finite\u001b[39m=\u001b[39;49m\u001b[39m\"\u001b[39;49m\u001b[39mallow-nan\u001b[39;49m\u001b[39m\"\u001b[39;49m,\n\u001b[0;32m    513\u001b[0m     reset\u001b[39m=\u001b[39;49m\u001b[39mFalse\u001b[39;49;00m,\n\u001b[0;32m    514\u001b[0m )\n\u001b[0;32m    516\u001b[0m X \u001b[39m*\u001b[39m\u001b[39m=\u001b[39m \u001b[39mself\u001b[39m\u001b[39m.\u001b[39mscale_\n\u001b[0;32m    517\u001b[0m X \u001b[39m+\u001b[39m\u001b[39m=\u001b[39m \u001b[39mself\u001b[39m\u001b[39m.\u001b[39mmin_\n",
            "File \u001b[1;32mg:\\Research Project\\Stock-and-Index-Price-prediction-with-Sentiment-Analysis\\venv\\lib\\site-packages\\sklearn\\base.py:565\u001b[0m, in \u001b[0;36mBaseEstimator._validate_data\u001b[1;34m(self, X, y, reset, validate_separately, **check_params)\u001b[0m\n\u001b[0;32m    563\u001b[0m     \u001b[39mraise\u001b[39;00m \u001b[39mValueError\u001b[39;00m(\u001b[39m\"\u001b[39m\u001b[39mValidation should be done on X, y or both.\u001b[39m\u001b[39m\"\u001b[39m)\n\u001b[0;32m    564\u001b[0m \u001b[39melif\u001b[39;00m \u001b[39mnot\u001b[39;00m no_val_X \u001b[39mand\u001b[39;00m no_val_y:\n\u001b[1;32m--> 565\u001b[0m     X \u001b[39m=\u001b[39m check_array(X, input_name\u001b[39m=\u001b[39m\u001b[39m\"\u001b[39m\u001b[39mX\u001b[39m\u001b[39m\"\u001b[39m, \u001b[39m*\u001b[39m\u001b[39m*\u001b[39mcheck_params)\n\u001b[0;32m    566\u001b[0m     out \u001b[39m=\u001b[39m X\n\u001b[0;32m    567\u001b[0m \u001b[39melif\u001b[39;00m no_val_X \u001b[39mand\u001b[39;00m \u001b[39mnot\u001b[39;00m no_val_y:\n",
            "File \u001b[1;32mg:\\Research Project\\Stock-and-Index-Price-prediction-with-Sentiment-Analysis\\venv\\lib\\site-packages\\sklearn\\utils\\validation.py:931\u001b[0m, in \u001b[0;36mcheck_array\u001b[1;34m(array, accept_sparse, accept_large_sparse, dtype, order, copy, force_all_finite, ensure_2d, allow_nd, ensure_min_samples, ensure_min_features, estimator, input_name)\u001b[0m\n\u001b[0;32m    929\u001b[0m     n_samples \u001b[39m=\u001b[39m _num_samples(array)\n\u001b[0;32m    930\u001b[0m     \u001b[39mif\u001b[39;00m n_samples \u001b[39m<\u001b[39m ensure_min_samples:\n\u001b[1;32m--> 931\u001b[0m         \u001b[39mraise\u001b[39;00m \u001b[39mValueError\u001b[39;00m(\n\u001b[0;32m    932\u001b[0m             \u001b[39m\"\u001b[39m\u001b[39mFound array with \u001b[39m\u001b[39m%d\u001b[39;00m\u001b[39m sample(s) (shape=\u001b[39m\u001b[39m%s\u001b[39;00m\u001b[39m) while a\u001b[39m\u001b[39m\"\u001b[39m\n\u001b[0;32m    933\u001b[0m             \u001b[39m\"\u001b[39m\u001b[39m minimum of \u001b[39m\u001b[39m%d\u001b[39;00m\u001b[39m is required\u001b[39m\u001b[39m%s\u001b[39;00m\u001b[39m.\u001b[39m\u001b[39m\"\u001b[39m\n\u001b[0;32m    934\u001b[0m             \u001b[39m%\u001b[39m (n_samples, array\u001b[39m.\u001b[39mshape, ensure_min_samples, context)\n\u001b[0;32m    935\u001b[0m         )\n\u001b[0;32m    937\u001b[0m \u001b[39mif\u001b[39;00m ensure_min_features \u001b[39m>\u001b[39m \u001b[39m0\u001b[39m \u001b[39mand\u001b[39;00m array\u001b[39m.\u001b[39mndim \u001b[39m==\u001b[39m \u001b[39m2\u001b[39m:\n\u001b[0;32m    938\u001b[0m     n_features \u001b[39m=\u001b[39m array\u001b[39m.\u001b[39mshape[\u001b[39m1\u001b[39m]\n",
            "\u001b[1;31mValueError\u001b[0m: Found array with 0 sample(s) (shape=(0, 1)) while a minimum of 1 is required by MinMaxScaler."
          ]
        }
      ],
      "source": [
        "# Predict Adjusted Close price for RI stock for 11 Jul 2019   \n",
        "# get the quote\n",
        "RI_quote = yf.download(\"RI.L\", start=\"2015-07-10\", end=\"2019-07-12\")\n",
        "# Create new df\n",
        "new_df = RI_quote.filter(['Adj Close'])\n",
        "# Get last 60 days closing price and convert df to array])\n",
        "last_60_days = new_df[-60:].values\n",
        "# Scale data to be values between 0 and 1\n",
        "last_60_days_scaled = scaler.transform(last_60_days)\n",
        "# Create empty list\n",
        "X_test = []\n",
        "# Append last 60 days \n",
        "X_test.append(last_60_days_scaled)\n",
        "# Convert the X_test data set to numpy array\n",
        "X_test = np.array(X_test)\n",
        "# Reshape data\n",
        "X_test = np.reshape(X_test, (X_test.shape[0], X_test.shape[1], 1))\n",
        "# Get predicted price\n",
        "pred_price = model.predict(X_test)\n",
        "# Undo the scaling\n",
        "pred_price = scaler.inverse_transform(pred_price)\n",
        "print(pred_price)"
      ]
    },
    {
      "attachments": {},
      "cell_type": "markdown",
      "metadata": {
        "id": "myiZBh-b39f2"
      },
      "source": [
        "### Actual Adjusted Close price for 11 July 2019"
      ]
    },
    {
      "cell_type": "code",
      "execution_count": null,
      "metadata": {
        "colab": {
          "base_uri": "https://localhost:8080/"
        },
        "id": "h4-hnAoKP-Xb",
        "outputId": "1de51af2-2df9-4b0d-da39-3aeb81a26979"
      },
      "outputs": [
        {
          "name": "stdout",
          "output_type": "stream",
          "text": [
            "\r[*********************100%***********************]  1 of 1 completed\n",
            "Date\n",
            "2019-07-11    6024.65625\n",
            "Name: Adj Close, dtype: float64\n"
          ]
        }
      ],
      "source": [
        "# Actual price\n",
        "RI_quote2 = yf.download(\"RI.L\", start=\"2019-07-11\", end=\"2019-07-12\")\n",
        "print(RI_quote2['Adj Close'])"
      ]
    },
    {
      "attachments": {},
      "cell_type": "markdown",
      "metadata": {
        "id": "YdUAebzNcKfP"
      },
      "source": [
        "The predicted Adjusted Close price for 11 July 2019 was 5829.4, lower than the actual price of 6024.7. Accuracy could be improved by trying different numbers of layers, epochs and batch sizes. "
      ]
    }
  ],
  "metadata": {
    "colab": {
      "collapsed_sections": [],
      "name": "LSTM.ipynb",
      "provenance": []
    },
    "kernelspec": {
      "display_name": "Python 3",
      "name": "python3"
    },
    "language_info": {
      "codemirror_mode": {
        "name": "ipython",
        "version": 3
      },
      "file_extension": ".py",
      "mimetype": "text/x-python",
      "name": "python",
      "nbconvert_exporter": "python",
      "pygments_lexer": "ipython3",
      "version": "3.9.13"
    }
  },
  "nbformat": 4,
  "nbformat_minor": 0
}
